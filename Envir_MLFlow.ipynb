{
  "cells": [
    {
      "cell_type": "code",
      "execution_count": 5,
      "metadata": {
        "id": "_HMHq5Kf8kpO"
      },
      "outputs": [],
      "source": [
        "# pip install mlflow"
      ]
    },
    {
      "cell_type": "markdown",
      "metadata": {
        "id": "9mVDzj0nEWQq"
      },
      "source": [
        "####**Bibliotéques nécessaires**"
      ]
    },
    {
      "cell_type": "code",
      "execution_count": 70,
      "metadata": {
        "colab": {
          "base_uri": "https://localhost:8080/"
        },
        "collapsed": true,
        "id": "UMrZo6BBJ-e8",
        "outputId": "8edec023-6ef9-4fa9-9c1d-2506ff298ef1"
      },
      "outputs": [],
      "source": [
        "# Pour la manipulation\n",
        "import numpy as np\n",
        "import pandas as pd\n",
        "# Pour la visualisation\n",
        "import matplotlib.pyplot as plt\n",
        "import seaborn as sns\n",
        "import plotly.express as px\n",
        "\n",
        "from sklearn.preprocessing import LabelEncoder, OneHotEncoder, FunctionTransformer # Encodage des variables catégorielles\n",
        "from sklearn.impute import SimpleImputer # Gérer les NaNs\n",
        "from sklearn.model_selection import KFold  # Pour diviser le dataset en pli\n",
        "from sklearn.metrics import roc_auc_score # évaluation des modèles\n",
        "from sklearn.pipeline import Pipeline\n",
        "from sklearn.compose import ColumnTransformer\n",
        "\n",
        "from sklearn.model_selection import train_test_split, GridSearchCV\n",
        "from sklearn.preprocessing import StandardScaler\n",
        "from sklearn.metrics import RocCurveDisplay, classification_report\n",
        "\n",
        "import lightgbm as lgb\n",
        "\n",
        "import gc  # Pour libérer la mémoire\n",
        "import os # Gestion du système de fichiers du drive\n",
        "\n",
        "# Supprimer les avertissements\n",
        "import warnings\n",
        "warnings.filterwarnings('ignore')\n",
        "\n",
        "import joblib"
      ]
    },
    {
      "cell_type": "markdown",
      "metadata": {
        "id": "4ng9TwIbjn62"
      },
      "source": [
        "**train/test_bureau_corrs.csv**\n",
        "Elle contient les principales informations importantes des clients et leurs prêts."
      ]
    },
    {
      "cell_type": "code",
      "execution_count": 71,
      "metadata": {
        "colab": {
          "base_uri": "https://localhost:8080/",
          "height": 308
        },
        "id": "8bGGpBODuf21",
        "outputId": "02b6de02-ec88-4414-ead3-9ac95b5c9324"
      },
      "outputs": [
        {
          "name": "stdout",
          "output_type": "stream",
          "text": [
            "Dimension des données:  (307511, 17)\n"
          ]
        },
        {
          "data": {
            "text/html": [
              "<div>\n",
              "<style scoped>\n",
              "    .dataframe tbody tr th:only-of-type {\n",
              "        vertical-align: middle;\n",
              "    }\n",
              "\n",
              "    .dataframe tbody tr th {\n",
              "        vertical-align: top;\n",
              "    }\n",
              "\n",
              "    .dataframe thead th {\n",
              "        text-align: right;\n",
              "    }\n",
              "</style>\n",
              "<table border=\"1\" class=\"dataframe\">\n",
              "  <thead>\n",
              "    <tr style=\"text-align: right;\">\n",
              "      <th></th>\n",
              "      <th>SK_ID_CURR</th>\n",
              "      <th>TARGET</th>\n",
              "      <th>EXT_SOURCE_1</th>\n",
              "      <th>EXT_SOURCE_3</th>\n",
              "      <th>EXT_SOURCE_2</th>\n",
              "      <th>DAYS_BIRTH</th>\n",
              "      <th>bureau_DAYS_CREDIT_max</th>\n",
              "      <th>bureau_DAYS_CREDIT_min</th>\n",
              "      <th>bureau_DAYS_CREDIT_UPDATE_mean</th>\n",
              "      <th>bureau_DAYS_CREDIT_mean</th>\n",
              "      <th>bureau_CREDIT_ACTIVE_Closed_mean</th>\n",
              "      <th>client_bureau_balance_STATUS_C_sum_mean</th>\n",
              "      <th>NAME_CONTRACT_TYPE</th>\n",
              "      <th>CODE_GENDER</th>\n",
              "      <th>FLAG_OWN_CAR</th>\n",
              "      <th>bureau_CREDIT_ACTIVE_Active_mean</th>\n",
              "      <th>client_bureau_balance_MONTHS_BALANCE_mean_mean</th>\n",
              "    </tr>\n",
              "  </thead>\n",
              "  <tbody>\n",
              "    <tr>\n",
              "      <th>0</th>\n",
              "      <td>100002</td>\n",
              "      <td>1</td>\n",
              "      <td>0.083008</td>\n",
              "      <td>0.139404</td>\n",
              "      <td>0.262939</td>\n",
              "      <td>-9461.0</td>\n",
              "      <td>-103.0</td>\n",
              "      <td>-1437.0</td>\n",
              "      <td>-500.0</td>\n",
              "      <td>-874.0</td>\n",
              "      <td>0.75</td>\n",
              "      <td>2.875</td>\n",
              "      <td>Cash loans</td>\n",
              "      <td>M</td>\n",
              "      <td>N</td>\n",
              "      <td>0.25</td>\n",
              "      <td>-21.875</td>\n",
              "    </tr>\n",
              "    <tr>\n",
              "      <th>1</th>\n",
              "      <td>100003</td>\n",
              "      <td>0</td>\n",
              "      <td>0.311279</td>\n",
              "      <td>NaN</td>\n",
              "      <td>0.622070</td>\n",
              "      <td>-16765.0</td>\n",
              "      <td>-606.0</td>\n",
              "      <td>-2586.0</td>\n",
              "      <td>-816.0</td>\n",
              "      <td>-1401.0</td>\n",
              "      <td>0.75</td>\n",
              "      <td>NaN</td>\n",
              "      <td>Cash loans</td>\n",
              "      <td>F</td>\n",
              "      <td>N</td>\n",
              "      <td>0.25</td>\n",
              "      <td>NaN</td>\n",
              "    </tr>\n",
              "    <tr>\n",
              "      <th>2</th>\n",
              "      <td>100004</td>\n",
              "      <td>0</td>\n",
              "      <td>NaN</td>\n",
              "      <td>0.729492</td>\n",
              "      <td>0.556152</td>\n",
              "      <td>-19046.0</td>\n",
              "      <td>-408.0</td>\n",
              "      <td>-1326.0</td>\n",
              "      <td>-532.0</td>\n",
              "      <td>-867.0</td>\n",
              "      <td>1.00</td>\n",
              "      <td>NaN</td>\n",
              "      <td>Revolving loans</td>\n",
              "      <td>M</td>\n",
              "      <td>Y</td>\n",
              "      <td>0.00</td>\n",
              "      <td>NaN</td>\n",
              "    </tr>\n",
              "    <tr>\n",
              "      <th>3</th>\n",
              "      <td>100006</td>\n",
              "      <td>0</td>\n",
              "      <td>NaN</td>\n",
              "      <td>NaN</td>\n",
              "      <td>0.650391</td>\n",
              "      <td>-19005.0</td>\n",
              "      <td>NaN</td>\n",
              "      <td>NaN</td>\n",
              "      <td>NaN</td>\n",
              "      <td>NaN</td>\n",
              "      <td>NaN</td>\n",
              "      <td>NaN</td>\n",
              "      <td>Cash loans</td>\n",
              "      <td>F</td>\n",
              "      <td>N</td>\n",
              "      <td>NaN</td>\n",
              "      <td>NaN</td>\n",
              "    </tr>\n",
              "    <tr>\n",
              "      <th>4</th>\n",
              "      <td>100007</td>\n",
              "      <td>0</td>\n",
              "      <td>NaN</td>\n",
              "      <td>NaN</td>\n",
              "      <td>0.322754</td>\n",
              "      <td>-19932.0</td>\n",
              "      <td>-1149.0</td>\n",
              "      <td>-1149.0</td>\n",
              "      <td>-783.0</td>\n",
              "      <td>-1149.0</td>\n",
              "      <td>1.00</td>\n",
              "      <td>NaN</td>\n",
              "      <td>Cash loans</td>\n",
              "      <td>M</td>\n",
              "      <td>N</td>\n",
              "      <td>0.00</td>\n",
              "      <td>NaN</td>\n",
              "    </tr>\n",
              "  </tbody>\n",
              "</table>\n",
              "</div>"
            ],
            "text/plain": [
              "   SK_ID_CURR  TARGET  EXT_SOURCE_1  EXT_SOURCE_3  EXT_SOURCE_2  DAYS_BIRTH   \n",
              "0      100002       1      0.083008      0.139404      0.262939     -9461.0  \\\n",
              "1      100003       0      0.311279           NaN      0.622070    -16765.0   \n",
              "2      100004       0           NaN      0.729492      0.556152    -19046.0   \n",
              "3      100006       0           NaN           NaN      0.650391    -19005.0   \n",
              "4      100007       0           NaN           NaN      0.322754    -19932.0   \n",
              "\n",
              "   bureau_DAYS_CREDIT_max  bureau_DAYS_CREDIT_min   \n",
              "0                  -103.0                 -1437.0  \\\n",
              "1                  -606.0                 -2586.0   \n",
              "2                  -408.0                 -1326.0   \n",
              "3                     NaN                     NaN   \n",
              "4                 -1149.0                 -1149.0   \n",
              "\n",
              "   bureau_DAYS_CREDIT_UPDATE_mean  bureau_DAYS_CREDIT_mean   \n",
              "0                          -500.0                   -874.0  \\\n",
              "1                          -816.0                  -1401.0   \n",
              "2                          -532.0                   -867.0   \n",
              "3                             NaN                      NaN   \n",
              "4                          -783.0                  -1149.0   \n",
              "\n",
              "   bureau_CREDIT_ACTIVE_Closed_mean  client_bureau_balance_STATUS_C_sum_mean   \n",
              "0                              0.75                                    2.875  \\\n",
              "1                              0.75                                      NaN   \n",
              "2                              1.00                                      NaN   \n",
              "3                               NaN                                      NaN   \n",
              "4                              1.00                                      NaN   \n",
              "\n",
              "  NAME_CONTRACT_TYPE CODE_GENDER FLAG_OWN_CAR   \n",
              "0         Cash loans           M            N  \\\n",
              "1         Cash loans           F            N   \n",
              "2    Revolving loans           M            Y   \n",
              "3         Cash loans           F            N   \n",
              "4         Cash loans           M            N   \n",
              "\n",
              "   bureau_CREDIT_ACTIVE_Active_mean   \n",
              "0                              0.25  \\\n",
              "1                              0.25   \n",
              "2                              0.00   \n",
              "3                               NaN   \n",
              "4                              0.00   \n",
              "\n",
              "   client_bureau_balance_MONTHS_BALANCE_mean_mean  \n",
              "0                                         -21.875  \n",
              "1                                             NaN  \n",
              "2                                             NaN  \n",
              "3                                             NaN  \n",
              "4                                             NaN  "
            ]
          },
          "execution_count": 71,
          "metadata": {},
          "output_type": "execute_result"
        }
      ],
      "source": [
        "# Les données d'entrainement\n",
        "data = pd.read_pickle('train_format.pkl')\n",
        "print('Dimension des données: ', data.shape)\n",
        "data.head()"
      ]
    },
    {
      "cell_type": "markdown",
      "metadata": {
        "id": "MRXDivJdIROC"
      },
      "source": [
        "Le dataset contiennent **307 511** observations, où chaque observation représente un prêt distinct ayant chacune **39** caractéristiques.\n",
        "La variable **TARGET** est la cible qu'on cherche à prédire.\n",
        "  - 0 : le prêt a été remboursé\n",
        "  - 1 : le prêt n'a pas été remboursé"
      ]
    },
    {
      "cell_type": "markdown",
      "metadata": {
        "id": "ek-zeSwgDWaJ"
      },
      "source": [
        "**Description des variables**"
      ]
    },
    {
      "cell_type": "markdown",
      "metadata": {
        "id": "DL3-xMbDDiYJ"
      },
      "source": [
        "####**Les variables importantes**"
      ]
    },
    {
      "cell_type": "code",
      "execution_count": null,
      "metadata": {
        "colab": {
          "base_uri": "https://localhost:8080/",
          "height": 444
        },
        "id": "rFRsJqXPFJ2K",
        "outputId": "e7a64cc5-1b39-48a0-fc68-df5b322d4459"
      },
      "outputs": [
        {
          "data": {
            "application/vnd.google.colaboratory.intrinsic+json": {
              "type": "dataframe",
              "variable_name": "df"
            },
            "text/html": [
              "\n",
              "  <div id=\"df-1a40f74d-724a-43e8-b813-f12b59509b2d\" class=\"colab-df-container\">\n",
              "    <div>\n",
              "<style scoped>\n",
              "    .dataframe tbody tr th:only-of-type {\n",
              "        vertical-align: middle;\n",
              "    }\n",
              "\n",
              "    .dataframe tbody tr th {\n",
              "        vertical-align: top;\n",
              "    }\n",
              "\n",
              "    .dataframe thead th {\n",
              "        text-align: right;\n",
              "    }\n",
              "</style>\n",
              "<table border=\"1\" class=\"dataframe\">\n",
              "  <thead>\n",
              "    <tr style=\"text-align: right;\">\n",
              "      <th></th>\n",
              "      <th>SK_ID_CURR</th>\n",
              "      <th>TARGET</th>\n",
              "      <th>EXT_SOURCE_1</th>\n",
              "      <th>EXT_SOURCE_3</th>\n",
              "      <th>EXT_SOURCE_2</th>\n",
              "      <th>DAYS_BIRTH</th>\n",
              "      <th>bureau_DAYS_CREDIT_max</th>\n",
              "      <th>bureau_DAYS_CREDIT_min</th>\n",
              "      <th>bureau_DAYS_CREDIT_UPDATE_mean</th>\n",
              "      <th>bureau_DAYS_CREDIT_mean</th>\n",
              "      <th>bureau_CREDIT_ACTIVE_Closed_mean</th>\n",
              "      <th>client_bureau_balance_STATUS_C_sum_mean</th>\n",
              "      <th>NAME_CONTRACT_TYPE</th>\n",
              "      <th>CODE_GENDER</th>\n",
              "      <th>FLAG_OWN_CAR</th>\n",
              "      <th>bureau_CREDIT_ACTIVE_Active_mean</th>\n",
              "      <th>client_bureau_balance_MONTHS_BALANCE_mean_mean</th>\n",
              "    </tr>\n",
              "  </thead>\n",
              "  <tbody>\n",
              "    <tr>\n",
              "      <th>0</th>\n",
              "      <td>100002</td>\n",
              "      <td>1</td>\n",
              "      <td>0.083037</td>\n",
              "      <td>0.139376</td>\n",
              "      <td>0.262949</td>\n",
              "      <td>-9461</td>\n",
              "      <td>-103.0</td>\n",
              "      <td>-1437.0</td>\n",
              "      <td>-499.875000</td>\n",
              "      <td>-874.000000</td>\n",
              "      <td>0.750000</td>\n",
              "      <td>2.875000</td>\n",
              "      <td>Cash loans</td>\n",
              "      <td>M</td>\n",
              "      <td>N</td>\n",
              "      <td>0.250000</td>\n",
              "      <td>-21.875000</td>\n",
              "    </tr>\n",
              "    <tr>\n",
              "      <th>1</th>\n",
              "      <td>100003</td>\n",
              "      <td>0</td>\n",
              "      <td>0.311267</td>\n",
              "      <td>NaN</td>\n",
              "      <td>0.622246</td>\n",
              "      <td>-16765</td>\n",
              "      <td>-606.0</td>\n",
              "      <td>-2586.0</td>\n",
              "      <td>-816.000000</td>\n",
              "      <td>-1400.750000</td>\n",
              "      <td>0.750000</td>\n",
              "      <td>NaN</td>\n",
              "      <td>Cash loans</td>\n",
              "      <td>F</td>\n",
              "      <td>N</td>\n",
              "      <td>0.250000</td>\n",
              "      <td>NaN</td>\n",
              "    </tr>\n",
              "    <tr>\n",
              "      <th>2</th>\n",
              "      <td>100004</td>\n",
              "      <td>0</td>\n",
              "      <td>NaN</td>\n",
              "      <td>0.729567</td>\n",
              "      <td>0.555912</td>\n",
              "      <td>-19046</td>\n",
              "      <td>-408.0</td>\n",
              "      <td>-1326.0</td>\n",
              "      <td>-532.000000</td>\n",
              "      <td>-867.000000</td>\n",
              "      <td>1.000000</td>\n",
              "      <td>NaN</td>\n",
              "      <td>Revolving loans</td>\n",
              "      <td>M</td>\n",
              "      <td>Y</td>\n",
              "      <td>0.000000</td>\n",
              "      <td>NaN</td>\n",
              "    </tr>\n",
              "    <tr>\n",
              "      <th>3</th>\n",
              "      <td>100006</td>\n",
              "      <td>0</td>\n",
              "      <td>NaN</td>\n",
              "      <td>NaN</td>\n",
              "      <td>0.650442</td>\n",
              "      <td>-19005</td>\n",
              "      <td>NaN</td>\n",
              "      <td>NaN</td>\n",
              "      <td>NaN</td>\n",
              "      <td>NaN</td>\n",
              "      <td>NaN</td>\n",
              "      <td>NaN</td>\n",
              "      <td>Cash loans</td>\n",
              "      <td>F</td>\n",
              "      <td>N</td>\n",
              "      <td>NaN</td>\n",
              "      <td>NaN</td>\n",
              "    </tr>\n",
              "    <tr>\n",
              "      <th>4</th>\n",
              "      <td>100007</td>\n",
              "      <td>0</td>\n",
              "      <td>NaN</td>\n",
              "      <td>NaN</td>\n",
              "      <td>0.322738</td>\n",
              "      <td>-19932</td>\n",
              "      <td>-1149.0</td>\n",
              "      <td>-1149.0</td>\n",
              "      <td>-783.000000</td>\n",
              "      <td>-1149.000000</td>\n",
              "      <td>1.000000</td>\n",
              "      <td>NaN</td>\n",
              "      <td>Cash loans</td>\n",
              "      <td>M</td>\n",
              "      <td>N</td>\n",
              "      <td>0.000000</td>\n",
              "      <td>NaN</td>\n",
              "    </tr>\n",
              "    <tr>\n",
              "      <th>...</th>\n",
              "      <td>...</td>\n",
              "      <td>...</td>\n",
              "      <td>...</td>\n",
              "      <td>...</td>\n",
              "      <td>...</td>\n",
              "      <td>...</td>\n",
              "      <td>...</td>\n",
              "      <td>...</td>\n",
              "      <td>...</td>\n",
              "      <td>...</td>\n",
              "      <td>...</td>\n",
              "      <td>...</td>\n",
              "      <td>...</td>\n",
              "      <td>...</td>\n",
              "      <td>...</td>\n",
              "      <td>...</td>\n",
              "      <td>...</td>\n",
              "    </tr>\n",
              "    <tr>\n",
              "      <th>307506</th>\n",
              "      <td>456251</td>\n",
              "      <td>0</td>\n",
              "      <td>0.145570</td>\n",
              "      <td>NaN</td>\n",
              "      <td>0.681632</td>\n",
              "      <td>-9327</td>\n",
              "      <td>NaN</td>\n",
              "      <td>NaN</td>\n",
              "      <td>NaN</td>\n",
              "      <td>NaN</td>\n",
              "      <td>NaN</td>\n",
              "      <td>NaN</td>\n",
              "      <td>Cash loans</td>\n",
              "      <td>M</td>\n",
              "      <td>N</td>\n",
              "      <td>NaN</td>\n",
              "      <td>NaN</td>\n",
              "    </tr>\n",
              "    <tr>\n",
              "      <th>307507</th>\n",
              "      <td>456252</td>\n",
              "      <td>0</td>\n",
              "      <td>NaN</td>\n",
              "      <td>NaN</td>\n",
              "      <td>0.115992</td>\n",
              "      <td>-20775</td>\n",
              "      <td>NaN</td>\n",
              "      <td>NaN</td>\n",
              "      <td>NaN</td>\n",
              "      <td>NaN</td>\n",
              "      <td>NaN</td>\n",
              "      <td>NaN</td>\n",
              "      <td>Cash loans</td>\n",
              "      <td>F</td>\n",
              "      <td>N</td>\n",
              "      <td>NaN</td>\n",
              "      <td>NaN</td>\n",
              "    </tr>\n",
              "    <tr>\n",
              "      <th>307508</th>\n",
              "      <td>456253</td>\n",
              "      <td>0</td>\n",
              "      <td>0.744026</td>\n",
              "      <td>0.218859</td>\n",
              "      <td>0.535722</td>\n",
              "      <td>-14966</td>\n",
              "      <td>-713.0</td>\n",
              "      <td>-919.0</td>\n",
              "      <td>-253.250000</td>\n",
              "      <td>-867.500000</td>\n",
              "      <td>0.500000</td>\n",
              "      <td>14.250000</td>\n",
              "      <td>Cash loans</td>\n",
              "      <td>F</td>\n",
              "      <td>N</td>\n",
              "      <td>0.500000</td>\n",
              "      <td>-14.125000</td>\n",
              "    </tr>\n",
              "    <tr>\n",
              "      <th>307509</th>\n",
              "      <td>456254</td>\n",
              "      <td>1</td>\n",
              "      <td>NaN</td>\n",
              "      <td>0.661024</td>\n",
              "      <td>0.514163</td>\n",
              "      <td>-11961</td>\n",
              "      <td>-1104.0</td>\n",
              "      <td>-1104.0</td>\n",
              "      <td>-401.000000</td>\n",
              "      <td>-1104.000000</td>\n",
              "      <td>1.000000</td>\n",
              "      <td>29.000000</td>\n",
              "      <td>Cash loans</td>\n",
              "      <td>F</td>\n",
              "      <td>N</td>\n",
              "      <td>0.000000</td>\n",
              "      <td>-18.000000</td>\n",
              "    </tr>\n",
              "    <tr>\n",
              "      <th>307510</th>\n",
              "      <td>456255</td>\n",
              "      <td>0</td>\n",
              "      <td>0.734460</td>\n",
              "      <td>0.113922</td>\n",
              "      <td>0.708569</td>\n",
              "      <td>-16856</td>\n",
              "      <td>-363.0</td>\n",
              "      <td>-2337.0</td>\n",
              "      <td>-531.090909</td>\n",
              "      <td>-1089.454545</td>\n",
              "      <td>0.545455</td>\n",
              "      <td>19.363636</td>\n",
              "      <td>Cash loans</td>\n",
              "      <td>F</td>\n",
              "      <td>N</td>\n",
              "      <td>0.454545</td>\n",
              "      <td>-22.272727</td>\n",
              "    </tr>\n",
              "  </tbody>\n",
              "</table>\n",
              "<p>307511 rows × 17 columns</p>\n",
              "</div>\n",
              "    <div class=\"colab-df-buttons\">\n",
              "\n",
              "  <div class=\"colab-df-container\">\n",
              "    <button class=\"colab-df-convert\" onclick=\"convertToInteractive('df-1a40f74d-724a-43e8-b813-f12b59509b2d')\"\n",
              "            title=\"Convert this dataframe to an interactive table.\"\n",
              "            style=\"display:none;\">\n",
              "\n",
              "  <svg xmlns=\"http://www.w3.org/2000/svg\" height=\"24px\" viewBox=\"0 -960 960 960\">\n",
              "    <path d=\"M120-120v-720h720v720H120Zm60-500h600v-160H180v160Zm220 220h160v-160H400v160Zm0 220h160v-160H400v160ZM180-400h160v-160H180v160Zm440 0h160v-160H620v160ZM180-180h160v-160H180v160Zm440 0h160v-160H620v160Z\"/>\n",
              "  </svg>\n",
              "    </button>\n",
              "\n",
              "  <style>\n",
              "    .colab-df-container {\n",
              "      display:flex;\n",
              "      gap: 12px;\n",
              "    }\n",
              "\n",
              "    .colab-df-convert {\n",
              "      background-color: #E8F0FE;\n",
              "      border: none;\n",
              "      border-radius: 50%;\n",
              "      cursor: pointer;\n",
              "      display: none;\n",
              "      fill: #1967D2;\n",
              "      height: 32px;\n",
              "      padding: 0 0 0 0;\n",
              "      width: 32px;\n",
              "    }\n",
              "\n",
              "    .colab-df-convert:hover {\n",
              "      background-color: #E2EBFA;\n",
              "      box-shadow: 0px 1px 2px rgba(60, 64, 67, 0.3), 0px 1px 3px 1px rgba(60, 64, 67, 0.15);\n",
              "      fill: #174EA6;\n",
              "    }\n",
              "\n",
              "    .colab-df-buttons div {\n",
              "      margin-bottom: 4px;\n",
              "    }\n",
              "\n",
              "    [theme=dark] .colab-df-convert {\n",
              "      background-color: #3B4455;\n",
              "      fill: #D2E3FC;\n",
              "    }\n",
              "\n",
              "    [theme=dark] .colab-df-convert:hover {\n",
              "      background-color: #434B5C;\n",
              "      box-shadow: 0px 1px 3px 1px rgba(0, 0, 0, 0.15);\n",
              "      filter: drop-shadow(0px 1px 2px rgba(0, 0, 0, 0.3));\n",
              "      fill: #FFFFFF;\n",
              "    }\n",
              "  </style>\n",
              "\n",
              "    <script>\n",
              "      const buttonEl =\n",
              "        document.querySelector('#df-1a40f74d-724a-43e8-b813-f12b59509b2d button.colab-df-convert');\n",
              "      buttonEl.style.display =\n",
              "        google.colab.kernel.accessAllowed ? 'block' : 'none';\n",
              "\n",
              "      async function convertToInteractive(key) {\n",
              "        const element = document.querySelector('#df-1a40f74d-724a-43e8-b813-f12b59509b2d');\n",
              "        const dataTable =\n",
              "          await google.colab.kernel.invokeFunction('convertToInteractive',\n",
              "                                                    [key], {});\n",
              "        if (!dataTable) return;\n",
              "\n",
              "        const docLinkHtml = 'Like what you see? Visit the ' +\n",
              "          '<a target=\"_blank\" href=https://colab.research.google.com/notebooks/data_table.ipynb>data table notebook</a>'\n",
              "          + ' to learn more about interactive tables.';\n",
              "        element.innerHTML = '';\n",
              "        dataTable['output_type'] = 'display_data';\n",
              "        await google.colab.output.renderOutput(dataTable, element);\n",
              "        const docLink = document.createElement('div');\n",
              "        docLink.innerHTML = docLinkHtml;\n",
              "        element.appendChild(docLink);\n",
              "      }\n",
              "    </script>\n",
              "  </div>\n",
              "\n",
              "\n",
              "<div id=\"df-a425b2a7-83f7-488e-a8b9-cd8a9c4132c2\">\n",
              "  <button class=\"colab-df-quickchart\" onclick=\"quickchart('df-a425b2a7-83f7-488e-a8b9-cd8a9c4132c2')\"\n",
              "            title=\"Suggest charts\"\n",
              "            style=\"display:none;\">\n",
              "\n",
              "<svg xmlns=\"http://www.w3.org/2000/svg\" height=\"24px\"viewBox=\"0 0 24 24\"\n",
              "     width=\"24px\">\n",
              "    <g>\n",
              "        <path d=\"M19 3H5c-1.1 0-2 .9-2 2v14c0 1.1.9 2 2 2h14c1.1 0 2-.9 2-2V5c0-1.1-.9-2-2-2zM9 17H7v-7h2v7zm4 0h-2V7h2v10zm4 0h-2v-4h2v4z\"/>\n",
              "    </g>\n",
              "</svg>\n",
              "  </button>\n",
              "\n",
              "<style>\n",
              "  .colab-df-quickchart {\n",
              "      --bg-color: #E8F0FE;\n",
              "      --fill-color: #1967D2;\n",
              "      --hover-bg-color: #E2EBFA;\n",
              "      --hover-fill-color: #174EA6;\n",
              "      --disabled-fill-color: #AAA;\n",
              "      --disabled-bg-color: #DDD;\n",
              "  }\n",
              "\n",
              "  [theme=dark] .colab-df-quickchart {\n",
              "      --bg-color: #3B4455;\n",
              "      --fill-color: #D2E3FC;\n",
              "      --hover-bg-color: #434B5C;\n",
              "      --hover-fill-color: #FFFFFF;\n",
              "      --disabled-bg-color: #3B4455;\n",
              "      --disabled-fill-color: #666;\n",
              "  }\n",
              "\n",
              "  .colab-df-quickchart {\n",
              "    background-color: var(--bg-color);\n",
              "    border: none;\n",
              "    border-radius: 50%;\n",
              "    cursor: pointer;\n",
              "    display: none;\n",
              "    fill: var(--fill-color);\n",
              "    height: 32px;\n",
              "    padding: 0;\n",
              "    width: 32px;\n",
              "  }\n",
              "\n",
              "  .colab-df-quickchart:hover {\n",
              "    background-color: var(--hover-bg-color);\n",
              "    box-shadow: 0 1px 2px rgba(60, 64, 67, 0.3), 0 1px 3px 1px rgba(60, 64, 67, 0.15);\n",
              "    fill: var(--button-hover-fill-color);\n",
              "  }\n",
              "\n",
              "  .colab-df-quickchart-complete:disabled,\n",
              "  .colab-df-quickchart-complete:disabled:hover {\n",
              "    background-color: var(--disabled-bg-color);\n",
              "    fill: var(--disabled-fill-color);\n",
              "    box-shadow: none;\n",
              "  }\n",
              "\n",
              "  .colab-df-spinner {\n",
              "    border: 2px solid var(--fill-color);\n",
              "    border-color: transparent;\n",
              "    border-bottom-color: var(--fill-color);\n",
              "    animation:\n",
              "      spin 1s steps(1) infinite;\n",
              "  }\n",
              "\n",
              "  @keyframes spin {\n",
              "    0% {\n",
              "      border-color: transparent;\n",
              "      border-bottom-color: var(--fill-color);\n",
              "      border-left-color: var(--fill-color);\n",
              "    }\n",
              "    20% {\n",
              "      border-color: transparent;\n",
              "      border-left-color: var(--fill-color);\n",
              "      border-top-color: var(--fill-color);\n",
              "    }\n",
              "    30% {\n",
              "      border-color: transparent;\n",
              "      border-left-color: var(--fill-color);\n",
              "      border-top-color: var(--fill-color);\n",
              "      border-right-color: var(--fill-color);\n",
              "    }\n",
              "    40% {\n",
              "      border-color: transparent;\n",
              "      border-right-color: var(--fill-color);\n",
              "      border-top-color: var(--fill-color);\n",
              "    }\n",
              "    60% {\n",
              "      border-color: transparent;\n",
              "      border-right-color: var(--fill-color);\n",
              "    }\n",
              "    80% {\n",
              "      border-color: transparent;\n",
              "      border-right-color: var(--fill-color);\n",
              "      border-bottom-color: var(--fill-color);\n",
              "    }\n",
              "    90% {\n",
              "      border-color: transparent;\n",
              "      border-bottom-color: var(--fill-color);\n",
              "    }\n",
              "  }\n",
              "</style>\n",
              "\n",
              "  <script>\n",
              "    async function quickchart(key) {\n",
              "      const quickchartButtonEl =\n",
              "        document.querySelector('#' + key + ' button');\n",
              "      quickchartButtonEl.disabled = true;  // To prevent multiple clicks.\n",
              "      quickchartButtonEl.classList.add('colab-df-spinner');\n",
              "      try {\n",
              "        const charts = await google.colab.kernel.invokeFunction(\n",
              "            'suggestCharts', [key], {});\n",
              "      } catch (error) {\n",
              "        console.error('Error during call to suggestCharts:', error);\n",
              "      }\n",
              "      quickchartButtonEl.classList.remove('colab-df-spinner');\n",
              "      quickchartButtonEl.classList.add('colab-df-quickchart-complete');\n",
              "    }\n",
              "    (() => {\n",
              "      let quickchartButtonEl =\n",
              "        document.querySelector('#df-a425b2a7-83f7-488e-a8b9-cd8a9c4132c2 button');\n",
              "      quickchartButtonEl.style.display =\n",
              "        google.colab.kernel.accessAllowed ? 'block' : 'none';\n",
              "    })();\n",
              "  </script>\n",
              "</div>\n",
              "\n",
              "  <div id=\"id_f728f6f4-4a59-478e-82fe-5b8f07009e24\">\n",
              "    <style>\n",
              "      .colab-df-generate {\n",
              "        background-color: #E8F0FE;\n",
              "        border: none;\n",
              "        border-radius: 50%;\n",
              "        cursor: pointer;\n",
              "        display: none;\n",
              "        fill: #1967D2;\n",
              "        height: 32px;\n",
              "        padding: 0 0 0 0;\n",
              "        width: 32px;\n",
              "      }\n",
              "\n",
              "      .colab-df-generate:hover {\n",
              "        background-color: #E2EBFA;\n",
              "        box-shadow: 0px 1px 2px rgba(60, 64, 67, 0.3), 0px 1px 3px 1px rgba(60, 64, 67, 0.15);\n",
              "        fill: #174EA6;\n",
              "      }\n",
              "\n",
              "      [theme=dark] .colab-df-generate {\n",
              "        background-color: #3B4455;\n",
              "        fill: #D2E3FC;\n",
              "      }\n",
              "\n",
              "      [theme=dark] .colab-df-generate:hover {\n",
              "        background-color: #434B5C;\n",
              "        box-shadow: 0px 1px 3px 1px rgba(0, 0, 0, 0.15);\n",
              "        filter: drop-shadow(0px 1px 2px rgba(0, 0, 0, 0.3));\n",
              "        fill: #FFFFFF;\n",
              "      }\n",
              "    </style>\n",
              "    <button class=\"colab-df-generate\" onclick=\"generateWithVariable('df')\"\n",
              "            title=\"Generate code using this dataframe.\"\n",
              "            style=\"display:none;\">\n",
              "\n",
              "  <svg xmlns=\"http://www.w3.org/2000/svg\" height=\"24px\"viewBox=\"0 0 24 24\"\n",
              "       width=\"24px\">\n",
              "    <path d=\"M7,19H8.4L18.45,9,17,7.55,7,17.6ZM5,21V16.75L18.45,3.32a2,2,0,0,1,2.83,0l1.4,1.43a1.91,1.91,0,0,1,.58,1.4,1.91,1.91,0,0,1-.58,1.4L9.25,21ZM18.45,9,17,7.55Zm-12,3A5.31,5.31,0,0,0,4.9,8.1,5.31,5.31,0,0,0,1,6.5,5.31,5.31,0,0,0,4.9,4.9,5.31,5.31,0,0,0,6.5,1,5.31,5.31,0,0,0,8.1,4.9,5.31,5.31,0,0,0,12,6.5,5.46,5.46,0,0,0,6.5,12Z\"/>\n",
              "  </svg>\n",
              "    </button>\n",
              "    <script>\n",
              "      (() => {\n",
              "      const buttonEl =\n",
              "        document.querySelector('#id_f728f6f4-4a59-478e-82fe-5b8f07009e24 button.colab-df-generate');\n",
              "      buttonEl.style.display =\n",
              "        google.colab.kernel.accessAllowed ? 'block' : 'none';\n",
              "\n",
              "      buttonEl.onclick = () => {\n",
              "        google.colab.notebook.generateWithVariable('df');\n",
              "      }\n",
              "      })();\n",
              "    </script>\n",
              "  </div>\n",
              "\n",
              "    </div>\n",
              "  </div>\n"
            ],
            "text/plain": [
              "        SK_ID_CURR  TARGET  EXT_SOURCE_1  EXT_SOURCE_3  EXT_SOURCE_2  \\\n",
              "0           100002       1      0.083037      0.139376      0.262949   \n",
              "1           100003       0      0.311267           NaN      0.622246   \n",
              "2           100004       0           NaN      0.729567      0.555912   \n",
              "3           100006       0           NaN           NaN      0.650442   \n",
              "4           100007       0           NaN           NaN      0.322738   \n",
              "...            ...     ...           ...           ...           ...   \n",
              "307506      456251       0      0.145570           NaN      0.681632   \n",
              "307507      456252       0           NaN           NaN      0.115992   \n",
              "307508      456253       0      0.744026      0.218859      0.535722   \n",
              "307509      456254       1           NaN      0.661024      0.514163   \n",
              "307510      456255       0      0.734460      0.113922      0.708569   \n",
              "\n",
              "        DAYS_BIRTH  bureau_DAYS_CREDIT_max  bureau_DAYS_CREDIT_min  \\\n",
              "0            -9461                  -103.0                 -1437.0   \n",
              "1           -16765                  -606.0                 -2586.0   \n",
              "2           -19046                  -408.0                 -1326.0   \n",
              "3           -19005                     NaN                     NaN   \n",
              "4           -19932                 -1149.0                 -1149.0   \n",
              "...            ...                     ...                     ...   \n",
              "307506       -9327                     NaN                     NaN   \n",
              "307507      -20775                     NaN                     NaN   \n",
              "307508      -14966                  -713.0                  -919.0   \n",
              "307509      -11961                 -1104.0                 -1104.0   \n",
              "307510      -16856                  -363.0                 -2337.0   \n",
              "\n",
              "        bureau_DAYS_CREDIT_UPDATE_mean  bureau_DAYS_CREDIT_mean  \\\n",
              "0                          -499.875000              -874.000000   \n",
              "1                          -816.000000             -1400.750000   \n",
              "2                          -532.000000              -867.000000   \n",
              "3                                  NaN                      NaN   \n",
              "4                          -783.000000             -1149.000000   \n",
              "...                                ...                      ...   \n",
              "307506                             NaN                      NaN   \n",
              "307507                             NaN                      NaN   \n",
              "307508                     -253.250000              -867.500000   \n",
              "307509                     -401.000000             -1104.000000   \n",
              "307510                     -531.090909             -1089.454545   \n",
              "\n",
              "        bureau_CREDIT_ACTIVE_Closed_mean  \\\n",
              "0                               0.750000   \n",
              "1                               0.750000   \n",
              "2                               1.000000   \n",
              "3                                    NaN   \n",
              "4                               1.000000   \n",
              "...                                  ...   \n",
              "307506                               NaN   \n",
              "307507                               NaN   \n",
              "307508                          0.500000   \n",
              "307509                          1.000000   \n",
              "307510                          0.545455   \n",
              "\n",
              "        client_bureau_balance_STATUS_C_sum_mean NAME_CONTRACT_TYPE  \\\n",
              "0                                      2.875000         Cash loans   \n",
              "1                                           NaN         Cash loans   \n",
              "2                                           NaN    Revolving loans   \n",
              "3                                           NaN         Cash loans   \n",
              "4                                           NaN         Cash loans   \n",
              "...                                         ...                ...   \n",
              "307506                                      NaN         Cash loans   \n",
              "307507                                      NaN         Cash loans   \n",
              "307508                                14.250000         Cash loans   \n",
              "307509                                29.000000         Cash loans   \n",
              "307510                                19.363636         Cash loans   \n",
              "\n",
              "       CODE_GENDER FLAG_OWN_CAR  bureau_CREDIT_ACTIVE_Active_mean  \\\n",
              "0                M            N                          0.250000   \n",
              "1                F            N                          0.250000   \n",
              "2                M            Y                          0.000000   \n",
              "3                F            N                               NaN   \n",
              "4                M            N                          0.000000   \n",
              "...            ...          ...                               ...   \n",
              "307506           M            N                               NaN   \n",
              "307507           F            N                               NaN   \n",
              "307508           F            N                          0.500000   \n",
              "307509           F            N                          0.000000   \n",
              "307510           F            N                          0.454545   \n",
              "\n",
              "        client_bureau_balance_MONTHS_BALANCE_mean_mean  \n",
              "0                                           -21.875000  \n",
              "1                                                  NaN  \n",
              "2                                                  NaN  \n",
              "3                                                  NaN  \n",
              "4                                                  NaN  \n",
              "...                                                ...  \n",
              "307506                                             NaN  \n",
              "307507                                             NaN  \n",
              "307508                                      -14.125000  \n",
              "307509                                      -18.000000  \n",
              "307510                                      -22.272727  \n",
              "\n",
              "[307511 rows x 17 columns]"
            ]
          },
          "execution_count": 7,
          "metadata": {},
          "output_type": "execute_result"
        }
      ],
      "source": [
        "df = data[['SK_ID_CURR', 'TARGET', 'EXT_SOURCE_1', 'EXT_SOURCE_3', 'EXT_SOURCE_2', 'DAYS_BIRTH',\n",
        "                         'bureau_DAYS_CREDIT_max', 'bureau_DAYS_CREDIT_min', 'bureau_DAYS_CREDIT_UPDATE_mean'\n",
        "                         , 'bureau_DAYS_CREDIT_mean','bureau_CREDIT_ACTIVE_Closed_mean'\n",
        "                         , 'client_bureau_balance_STATUS_C_sum_mean', 'NAME_CONTRACT_TYPE'\n",
        "                         , 'CODE_GENDER', 'FLAG_OWN_CAR', 'bureau_CREDIT_ACTIVE_Active_mean'\n",
        "                         , 'client_bureau_balance_MONTHS_BALANCE_mean_mean']]\n",
        "\n",
        "df"
      ]
    },
    {
      "cell_type": "markdown",
      "metadata": {
        "id": "gmNeDNg1TSUT"
      },
      "source": [
        "**Formatage des variables**"
      ]
    },
    {
      "cell_type": "code",
      "execution_count": 72,
      "metadata": {
        "colab": {
          "base_uri": "https://localhost:8080/"
        },
        "id": "-PAfgtLyTQNS",
        "outputId": "10e1dda1-2afb-4d8f-acc1-12f49ad7c396"
      },
      "outputs": [
        {
          "name": "stdout",
          "output_type": "stream",
          "text": [
            "<class 'pandas.core.frame.DataFrame'>\n",
            "Index: 244774 entries, 0 to 307510\n",
            "Data columns (total 14 columns):\n",
            " #   Column                            Non-Null Count   Dtype  \n",
            "---  ------                            --------------   -----  \n",
            " 0   SK_ID_CURR                        244774 non-null  int32  \n",
            " 1   TARGET                            244774 non-null  int8   \n",
            " 2   EXT_SOURCE_3                      244774 non-null  float16\n",
            " 3   EXT_SOURCE_2                      244774 non-null  float16\n",
            " 4   DAYS_BIRTH                        244774 non-null  float32\n",
            " 5   bureau_DAYS_CREDIT_max            244774 non-null  float16\n",
            " 6   bureau_DAYS_CREDIT_min            244774 non-null  float16\n",
            " 7   bureau_DAYS_CREDIT_UPDATE_mean    244774 non-null  float16\n",
            " 8   bureau_DAYS_CREDIT_mean           244774 non-null  float16\n",
            " 9   bureau_CREDIT_ACTIVE_Closed_mean  244774 non-null  float16\n",
            " 10  NAME_CONTRACT_TYPE                244774 non-null  object \n",
            " 11  CODE_GENDER                       244774 non-null  object \n",
            " 12  FLAG_OWN_CAR                      244774 non-null  object \n",
            " 13  bureau_CREDIT_ACTIVE_Active_mean  244774 non-null  float16\n",
            "dtypes: float16(8), float32(1), int32(1), int8(1), object(3)\n",
            "memory usage: 13.3+ MB\n"
          ]
        }
      ],
      "source": [
        "# Sauvegarder les format avec pkl\n",
        "# df.to_pickle(chemin + '/train_format.pkl')\n",
        "\n",
        "# Chargement des bons format avec pkl\n",
        "df = pd.read_pickle('train_red_format.pkl')\n",
        "df.info()"
      ]
    },
    {
      "cell_type": "code",
      "execution_count": 73,
      "metadata": {
        "colab": {
          "base_uri": "https://localhost:8080/",
          "height": 617
        },
        "id": "OhBEkbRgUp2R",
        "outputId": "d61950e5-1e5f-4756-9894-95cad96aea8e"
      },
      "outputs": [
        {
          "data": {
            "text/plain": [
              "SK_ID_CURR                          0.0\n",
              "TARGET                              0.0\n",
              "EXT_SOURCE_3                        0.0\n",
              "EXT_SOURCE_2                        0.0\n",
              "DAYS_BIRTH                          0.0\n",
              "bureau_DAYS_CREDIT_max              0.0\n",
              "bureau_DAYS_CREDIT_min              0.0\n",
              "bureau_DAYS_CREDIT_UPDATE_mean      0.0\n",
              "bureau_DAYS_CREDIT_mean             0.0\n",
              "bureau_CREDIT_ACTIVE_Closed_mean    0.0\n",
              "NAME_CONTRACT_TYPE                  0.0\n",
              "CODE_GENDER                         0.0\n",
              "FLAG_OWN_CAR                        0.0\n",
              "bureau_CREDIT_ACTIVE_Active_mean    0.0\n",
              "dtype: float64"
            ]
          },
          "execution_count": 73,
          "metadata": {},
          "output_type": "execute_result"
        }
      ],
      "source": [
        "(df.isna().mean()*100).sort_values(ascending=False)"
      ]
    },
    {
      "cell_type": "code",
      "execution_count": 39,
      "metadata": {
        "colab": {
          "base_uri": "https://localhost:8080/",
          "height": 320
        },
        "id": "WLIOgn2l99Py",
        "outputId": "90dfca04-70e5-4c66-90ad-56969b826a4a"
      },
      "outputs": [
        {
          "data": {
            "text/html": [
              "<div>\n",
              "<style scoped>\n",
              "    .dataframe tbody tr th:only-of-type {\n",
              "        vertical-align: middle;\n",
              "    }\n",
              "\n",
              "    .dataframe tbody tr th {\n",
              "        vertical-align: top;\n",
              "    }\n",
              "\n",
              "    .dataframe thead th {\n",
              "        text-align: right;\n",
              "    }\n",
              "</style>\n",
              "<table border=\"1\" class=\"dataframe\">\n",
              "  <thead>\n",
              "    <tr style=\"text-align: right;\">\n",
              "      <th></th>\n",
              "      <th>SK_ID_CURR</th>\n",
              "      <th>TARGET</th>\n",
              "      <th>EXT_SOURCE_3</th>\n",
              "      <th>EXT_SOURCE_2</th>\n",
              "      <th>DAYS_BIRTH</th>\n",
              "      <th>bureau_DAYS_CREDIT_max</th>\n",
              "      <th>bureau_DAYS_CREDIT_min</th>\n",
              "      <th>bureau_DAYS_CREDIT_UPDATE_mean</th>\n",
              "      <th>bureau_DAYS_CREDIT_mean</th>\n",
              "      <th>bureau_CREDIT_ACTIVE_Closed_mean</th>\n",
              "      <th>bureau_CREDIT_ACTIVE_Active_mean</th>\n",
              "    </tr>\n",
              "  </thead>\n",
              "  <tbody>\n",
              "    <tr>\n",
              "      <th>count</th>\n",
              "      <td>244774.000000</td>\n",
              "      <td>244774.000000</td>\n",
              "      <td>244774.000000</td>\n",
              "      <td>244774.000000</td>\n",
              "      <td>244774.000000</td>\n",
              "      <td>244774.0</td>\n",
              "      <td>244774.0</td>\n",
              "      <td>244774.0</td>\n",
              "      <td>244774.0</td>\n",
              "      <td>244774.000000</td>\n",
              "      <td>244774.000000</td>\n",
              "    </tr>\n",
              "    <tr>\n",
              "      <th>mean</th>\n",
              "      <td>278159.796396</td>\n",
              "      <td>0.077692</td>\n",
              "      <td>NaN</td>\n",
              "      <td>NaN</td>\n",
              "      <td>-16120.775391</td>\n",
              "      <td>NaN</td>\n",
              "      <td>NaN</td>\n",
              "      <td>NaN</td>\n",
              "      <td>NaN</td>\n",
              "      <td>NaN</td>\n",
              "      <td>NaN</td>\n",
              "    </tr>\n",
              "    <tr>\n",
              "      <th>std</th>\n",
              "      <td>102822.698534</td>\n",
              "      <td>0.267687</td>\n",
              "      <td>0.000000</td>\n",
              "      <td>0.000000</td>\n",
              "      <td>4299.810547</td>\n",
              "      <td>NaN</td>\n",
              "      <td>NaN</td>\n",
              "      <td>NaN</td>\n",
              "      <td>NaN</td>\n",
              "      <td>0.000000</td>\n",
              "      <td>0.000000</td>\n",
              "    </tr>\n",
              "    <tr>\n",
              "      <th>min</th>\n",
              "      <td>100002.000000</td>\n",
              "      <td>0.000000</td>\n",
              "      <td>0.000527</td>\n",
              "      <td>0.000001</td>\n",
              "      <td>-25201.000000</td>\n",
              "      <td>-2922.0</td>\n",
              "      <td>-2922.0</td>\n",
              "      <td>-41888.0</td>\n",
              "      <td>-2922.0</td>\n",
              "      <td>0.000000</td>\n",
              "      <td>0.000000</td>\n",
              "    </tr>\n",
              "    <tr>\n",
              "      <th>25%</th>\n",
              "      <td>188996.750000</td>\n",
              "      <td>0.000000</td>\n",
              "      <td>0.368896</td>\n",
              "      <td>0.400940</td>\n",
              "      <td>-19712.000000</td>\n",
              "      <td>-569.0</td>\n",
              "      <td>-2590.0</td>\n",
              "      <td>-763.0</td>\n",
              "      <td>-1415.0</td>\n",
              "      <td>0.399902</td>\n",
              "      <td>0.199951</td>\n",
              "    </tr>\n",
              "    <tr>\n",
              "      <th>50%</th>\n",
              "      <td>278054.500000</td>\n",
              "      <td>0.000000</td>\n",
              "      <td>0.535156</td>\n",
              "      <td>0.569824</td>\n",
              "      <td>-15814.000000</td>\n",
              "      <td>-284.0</td>\n",
              "      <td>-1853.0</td>\n",
              "      <td>-476.0</td>\n",
              "      <td>-1045.0</td>\n",
              "      <td>0.615234</td>\n",
              "      <td>0.375000</td>\n",
              "    </tr>\n",
              "    <tr>\n",
              "      <th>75%</th>\n",
              "      <td>367206.750000</td>\n",
              "      <td>0.000000</td>\n",
              "      <td>0.666016</td>\n",
              "      <td>0.665039</td>\n",
              "      <td>-12584.000000</td>\n",
              "      <td>-137.0</td>\n",
              "      <td>-1061.0</td>\n",
              "      <td>-211.5</td>\n",
              "      <td>-666.5</td>\n",
              "      <td>0.799805</td>\n",
              "      <td>0.600098</td>\n",
              "    </tr>\n",
              "    <tr>\n",
              "      <th>max</th>\n",
              "      <td>456255.000000</td>\n",
              "      <td>1.000000</td>\n",
              "      <td>0.895996</td>\n",
              "      <td>0.854980</td>\n",
              "      <td>-7676.000000</td>\n",
              "      <td>0.0</td>\n",
              "      <td>-2.0</td>\n",
              "      <td>14.0</td>\n",
              "      <td>-2.0</td>\n",
              "      <td>1.000000</td>\n",
              "      <td>1.000000</td>\n",
              "    </tr>\n",
              "  </tbody>\n",
              "</table>\n",
              "</div>"
            ],
            "text/plain": [
              "          SK_ID_CURR         TARGET   EXT_SOURCE_3   EXT_SOURCE_2   \n",
              "count  244774.000000  244774.000000  244774.000000  244774.000000  \\\n",
              "mean   278159.796396       0.077692            NaN            NaN   \n",
              "std    102822.698534       0.267687       0.000000       0.000000   \n",
              "min    100002.000000       0.000000       0.000527       0.000001   \n",
              "25%    188996.750000       0.000000       0.368896       0.400940   \n",
              "50%    278054.500000       0.000000       0.535156       0.569824   \n",
              "75%    367206.750000       0.000000       0.666016       0.665039   \n",
              "max    456255.000000       1.000000       0.895996       0.854980   \n",
              "\n",
              "          DAYS_BIRTH  bureau_DAYS_CREDIT_max  bureau_DAYS_CREDIT_min   \n",
              "count  244774.000000                244774.0                244774.0  \\\n",
              "mean   -16120.775391                     NaN                     NaN   \n",
              "std      4299.810547                     NaN                     NaN   \n",
              "min    -25201.000000                 -2922.0                 -2922.0   \n",
              "25%    -19712.000000                  -569.0                 -2590.0   \n",
              "50%    -15814.000000                  -284.0                 -1853.0   \n",
              "75%    -12584.000000                  -137.0                 -1061.0   \n",
              "max     -7676.000000                     0.0                    -2.0   \n",
              "\n",
              "       bureau_DAYS_CREDIT_UPDATE_mean  bureau_DAYS_CREDIT_mean   \n",
              "count                        244774.0                 244774.0  \\\n",
              "mean                              NaN                      NaN   \n",
              "std                               NaN                      NaN   \n",
              "min                          -41888.0                  -2922.0   \n",
              "25%                            -763.0                  -1415.0   \n",
              "50%                            -476.0                  -1045.0   \n",
              "75%                            -211.5                   -666.5   \n",
              "max                              14.0                     -2.0   \n",
              "\n",
              "       bureau_CREDIT_ACTIVE_Closed_mean  bureau_CREDIT_ACTIVE_Active_mean  \n",
              "count                     244774.000000                     244774.000000  \n",
              "mean                                NaN                               NaN  \n",
              "std                            0.000000                          0.000000  \n",
              "min                            0.000000                          0.000000  \n",
              "25%                            0.399902                          0.199951  \n",
              "50%                            0.615234                          0.375000  \n",
              "75%                            0.799805                          0.600098  \n",
              "max                            1.000000                          1.000000  "
            ]
          },
          "execution_count": 39,
          "metadata": {},
          "output_type": "execute_result"
        }
      ],
      "source": [
        "df.describe()"
      ]
    },
    {
      "cell_type": "code",
      "execution_count": 28,
      "metadata": {
        "colab": {
          "base_uri": "https://localhost:8080/",
          "height": 175
        },
        "id": "_MQL6DU_C1u-",
        "outputId": "5b062b8d-08d7-4850-ac3a-d69c06d7d350"
      },
      "outputs": [
        {
          "data": {
            "text/html": [
              "<div>\n",
              "<style scoped>\n",
              "    .dataframe tbody tr th:only-of-type {\n",
              "        vertical-align: middle;\n",
              "    }\n",
              "\n",
              "    .dataframe tbody tr th {\n",
              "        vertical-align: top;\n",
              "    }\n",
              "\n",
              "    .dataframe thead th {\n",
              "        text-align: right;\n",
              "    }\n",
              "</style>\n",
              "<table border=\"1\" class=\"dataframe\">\n",
              "  <thead>\n",
              "    <tr style=\"text-align: right;\">\n",
              "      <th></th>\n",
              "      <th>NAME_CONTRACT_TYPE</th>\n",
              "      <th>CODE_GENDER</th>\n",
              "      <th>FLAG_OWN_CAR</th>\n",
              "    </tr>\n",
              "  </thead>\n",
              "  <tbody>\n",
              "    <tr>\n",
              "      <th>count</th>\n",
              "      <td>244774</td>\n",
              "      <td>244774</td>\n",
              "      <td>244774</td>\n",
              "    </tr>\n",
              "    <tr>\n",
              "      <th>unique</th>\n",
              "      <td>2</td>\n",
              "      <td>3</td>\n",
              "      <td>2</td>\n",
              "    </tr>\n",
              "    <tr>\n",
              "      <th>top</th>\n",
              "      <td>Cash loans</td>\n",
              "      <td>F</td>\n",
              "      <td>N</td>\n",
              "    </tr>\n",
              "    <tr>\n",
              "      <th>freq</th>\n",
              "      <td>221950</td>\n",
              "      <td>162805</td>\n",
              "      <td>159072</td>\n",
              "    </tr>\n",
              "  </tbody>\n",
              "</table>\n",
              "</div>"
            ],
            "text/plain": [
              "       NAME_CONTRACT_TYPE CODE_GENDER FLAG_OWN_CAR\n",
              "count              244774      244774       244774\n",
              "unique                  2           3            2\n",
              "top            Cash loans           F            N\n",
              "freq               221950      162805       159072"
            ]
          },
          "execution_count": 28,
          "metadata": {},
          "output_type": "execute_result"
        }
      ],
      "source": [
        "df.select_dtypes(include='object').describe()"
      ]
    },
    {
      "cell_type": "markdown",
      "metadata": {
        "id": "vifqz0-YF21Q"
      },
      "source": [
        "**EDA**"
      ]
    },
    {
      "cell_type": "code",
      "execution_count": 76,
      "metadata": {
        "id": "8J4g6pq2K_Ym"
      },
      "outputs": [],
      "source": [
        "def perform_eda(df):\n",
        "    '''\n",
        "    On réalise un analyse exploratoire sur le df et on sauve en image.\n",
        "\n",
        "    entrée :\n",
        "            df_path : le chemin du df\n",
        "\n",
        "    sortie :\n",
        "            None\n",
        "    '''\n",
        "    # Transformer les valeurs en valeurs absolues\n",
        "    df_copy = df.copy()\n",
        "    # df_copy['DAYS_BIRTH'] = abs(df_copy['DAYS_BIRTH'])\n",
        "    # Informations sur l'âge dans un DataFrame séparé\n",
        "    age_data = df_copy[['TARGET', 'DAYS_BIRTH']]\n",
        "\n",
        "    # Ajouter une colonne contenant l'âge en années\n",
        "    age_data['YEARS_BIRTH'] = age_data['DAYS_BIRTH'] / -365\n",
        "\n",
        "    # Diviser les données d'âge par intervalles de 5 ans\n",
        "    age_data['YEARS_BINNED'] = pd.cut(age_data['YEARS_BIRTH'], bins = np.linspace(20, 70, num = 11))\n",
        "\n",
        "    # Regrouper les données par tranches d'âge et calculer les moyennes pour chaque tranche d'âge\n",
        "    age_groups = age_data.groupby('YEARS_BINNED').mean()\n",
        "\n",
        "   # On réinitialise l'index pour rendre YEARS_BINNED une colonne\n",
        "    age_groups_reset = age_groups.reset_index()\n",
        "    # Convertir les tranches d'âge en chaînes pour les utiliser comme catégories\n",
        "    age_groups_reset['YEARS_BINNED'] = age_groups_reset['YEARS_BINNED'].astype(str)\n",
        "\n",
        "    # Visualisation\n",
        "    fig = px.bar(\n",
        "        age_groups_reset,\n",
        "        x='YEARS_BINNED',  # Tranches d'âge\n",
        "        y='TARGET',        # Moyenne du taux de défaut\n",
        "        text='TARGET',     # Afficher les valeurs sur les barres\n",
        "        labels={'TARGET': \"Défaut de remboursement (%)', 'YEARS_BINNED': 'Tranche d'âge (années)\"},\n",
        "        title=\"Défaut de remboursement par tranche d'âge\"\n",
        "    )\n",
        "\n",
        "    # Modifier les valeurs pour afficher le pourcentage\n",
        "    fig.update_traces(texttemplate='%{text:.2%}', textposition='outside', marker_color='lightskyblue')\n",
        "    fig.update_yaxes(tickformat=\".0%\", title_text=\"Défaut de remboursement (%)\")\n",
        "    fig.update_layout(xaxis_title=\"Tranche d'âge (années)\", title_x=0.5)\n",
        "\n",
        "    # Affichage\n",
        "    fig.show();\n"
      ]
    },
    {
      "cell_type": "code",
      "execution_count": 77,
      "metadata": {
        "colab": {
          "base_uri": "https://localhost:8080/",
          "height": 542
        },
        "id": "dUHXjBCPGHK4",
        "outputId": "836ee6d0-886d-4311-ec3e-1ab1ceddf97d"
      },
      "outputs": [
        {
          "data": {
            "application/vnd.plotly.v1+json": {
              "config": {
                "plotlyServerURL": "https://plot.ly"
              },
              "data": [
                {
                  "alignmentgroup": "True",
                  "hovertemplate": "YEARS_BINNED=%{x}<br>Défaut de remboursement (%)', 'YEARS_BINNED': 'Tranche d'âge (années)=%{text}<extra></extra>",
                  "legendgroup": "",
                  "marker": {
                    "color": "lightskyblue",
                    "pattern": {
                      "shape": ""
                    }
                  },
                  "name": "",
                  "offsetgroup": "",
                  "orientation": "v",
                  "showlegend": false,
                  "text": [
                    0.12760875031430727,
                    0.10878023344430629,
                    0.09738266291103585,
                    0.08744343243398064,
                    0.0759146071396935,
                    0.07237004841160465,
                    0.06421037628278221,
                    0.052305293637241075,
                    0.05060875885880429,
                    0.03484995159728945
                  ],
                  "textposition": "outside",
                  "texttemplate": "%{text:.2%}",
                  "type": "bar",
                  "x": [
                    "(20.0, 25.0]",
                    "(25.0, 30.0]",
                    "(30.0, 35.0]",
                    "(35.0, 40.0]",
                    "(40.0, 45.0]",
                    "(45.0, 50.0]",
                    "(50.0, 55.0]",
                    "(55.0, 60.0]",
                    "(60.0, 65.0]",
                    "(65.0, 70.0]"
                  ],
                  "xaxis": "x",
                  "y": [
                    0.12760875031430727,
                    0.10878023344430629,
                    0.09738266291103585,
                    0.08744343243398064,
                    0.0759146071396935,
                    0.07237004841160465,
                    0.06421037628278221,
                    0.052305293637241075,
                    0.05060875885880429,
                    0.03484995159728945
                  ],
                  "yaxis": "y"
                }
              ],
              "layout": {
                "barmode": "relative",
                "legend": {
                  "tracegroupgap": 0
                },
                "template": {
                  "data": {
                    "bar": [
                      {
                        "error_x": {
                          "color": "#2a3f5f"
                        },
                        "error_y": {
                          "color": "#2a3f5f"
                        },
                        "marker": {
                          "line": {
                            "color": "#E5ECF6",
                            "width": 0.5
                          },
                          "pattern": {
                            "fillmode": "overlay",
                            "size": 10,
                            "solidity": 0.2
                          }
                        },
                        "type": "bar"
                      }
                    ],
                    "barpolar": [
                      {
                        "marker": {
                          "line": {
                            "color": "#E5ECF6",
                            "width": 0.5
                          },
                          "pattern": {
                            "fillmode": "overlay",
                            "size": 10,
                            "solidity": 0.2
                          }
                        },
                        "type": "barpolar"
                      }
                    ],
                    "carpet": [
                      {
                        "aaxis": {
                          "endlinecolor": "#2a3f5f",
                          "gridcolor": "white",
                          "linecolor": "white",
                          "minorgridcolor": "white",
                          "startlinecolor": "#2a3f5f"
                        },
                        "baxis": {
                          "endlinecolor": "#2a3f5f",
                          "gridcolor": "white",
                          "linecolor": "white",
                          "minorgridcolor": "white",
                          "startlinecolor": "#2a3f5f"
                        },
                        "type": "carpet"
                      }
                    ],
                    "choropleth": [
                      {
                        "colorbar": {
                          "outlinewidth": 0,
                          "ticks": ""
                        },
                        "type": "choropleth"
                      }
                    ],
                    "contour": [
                      {
                        "colorbar": {
                          "outlinewidth": 0,
                          "ticks": ""
                        },
                        "colorscale": [
                          [
                            0,
                            "#0d0887"
                          ],
                          [
                            0.1111111111111111,
                            "#46039f"
                          ],
                          [
                            0.2222222222222222,
                            "#7201a8"
                          ],
                          [
                            0.3333333333333333,
                            "#9c179e"
                          ],
                          [
                            0.4444444444444444,
                            "#bd3786"
                          ],
                          [
                            0.5555555555555556,
                            "#d8576b"
                          ],
                          [
                            0.6666666666666666,
                            "#ed7953"
                          ],
                          [
                            0.7777777777777778,
                            "#fb9f3a"
                          ],
                          [
                            0.8888888888888888,
                            "#fdca26"
                          ],
                          [
                            1,
                            "#f0f921"
                          ]
                        ],
                        "type": "contour"
                      }
                    ],
                    "contourcarpet": [
                      {
                        "colorbar": {
                          "outlinewidth": 0,
                          "ticks": ""
                        },
                        "type": "contourcarpet"
                      }
                    ],
                    "heatmap": [
                      {
                        "colorbar": {
                          "outlinewidth": 0,
                          "ticks": ""
                        },
                        "colorscale": [
                          [
                            0,
                            "#0d0887"
                          ],
                          [
                            0.1111111111111111,
                            "#46039f"
                          ],
                          [
                            0.2222222222222222,
                            "#7201a8"
                          ],
                          [
                            0.3333333333333333,
                            "#9c179e"
                          ],
                          [
                            0.4444444444444444,
                            "#bd3786"
                          ],
                          [
                            0.5555555555555556,
                            "#d8576b"
                          ],
                          [
                            0.6666666666666666,
                            "#ed7953"
                          ],
                          [
                            0.7777777777777778,
                            "#fb9f3a"
                          ],
                          [
                            0.8888888888888888,
                            "#fdca26"
                          ],
                          [
                            1,
                            "#f0f921"
                          ]
                        ],
                        "type": "heatmap"
                      }
                    ],
                    "heatmapgl": [
                      {
                        "colorbar": {
                          "outlinewidth": 0,
                          "ticks": ""
                        },
                        "colorscale": [
                          [
                            0,
                            "#0d0887"
                          ],
                          [
                            0.1111111111111111,
                            "#46039f"
                          ],
                          [
                            0.2222222222222222,
                            "#7201a8"
                          ],
                          [
                            0.3333333333333333,
                            "#9c179e"
                          ],
                          [
                            0.4444444444444444,
                            "#bd3786"
                          ],
                          [
                            0.5555555555555556,
                            "#d8576b"
                          ],
                          [
                            0.6666666666666666,
                            "#ed7953"
                          ],
                          [
                            0.7777777777777778,
                            "#fb9f3a"
                          ],
                          [
                            0.8888888888888888,
                            "#fdca26"
                          ],
                          [
                            1,
                            "#f0f921"
                          ]
                        ],
                        "type": "heatmapgl"
                      }
                    ],
                    "histogram": [
                      {
                        "marker": {
                          "pattern": {
                            "fillmode": "overlay",
                            "size": 10,
                            "solidity": 0.2
                          }
                        },
                        "type": "histogram"
                      }
                    ],
                    "histogram2d": [
                      {
                        "colorbar": {
                          "outlinewidth": 0,
                          "ticks": ""
                        },
                        "colorscale": [
                          [
                            0,
                            "#0d0887"
                          ],
                          [
                            0.1111111111111111,
                            "#46039f"
                          ],
                          [
                            0.2222222222222222,
                            "#7201a8"
                          ],
                          [
                            0.3333333333333333,
                            "#9c179e"
                          ],
                          [
                            0.4444444444444444,
                            "#bd3786"
                          ],
                          [
                            0.5555555555555556,
                            "#d8576b"
                          ],
                          [
                            0.6666666666666666,
                            "#ed7953"
                          ],
                          [
                            0.7777777777777778,
                            "#fb9f3a"
                          ],
                          [
                            0.8888888888888888,
                            "#fdca26"
                          ],
                          [
                            1,
                            "#f0f921"
                          ]
                        ],
                        "type": "histogram2d"
                      }
                    ],
                    "histogram2dcontour": [
                      {
                        "colorbar": {
                          "outlinewidth": 0,
                          "ticks": ""
                        },
                        "colorscale": [
                          [
                            0,
                            "#0d0887"
                          ],
                          [
                            0.1111111111111111,
                            "#46039f"
                          ],
                          [
                            0.2222222222222222,
                            "#7201a8"
                          ],
                          [
                            0.3333333333333333,
                            "#9c179e"
                          ],
                          [
                            0.4444444444444444,
                            "#bd3786"
                          ],
                          [
                            0.5555555555555556,
                            "#d8576b"
                          ],
                          [
                            0.6666666666666666,
                            "#ed7953"
                          ],
                          [
                            0.7777777777777778,
                            "#fb9f3a"
                          ],
                          [
                            0.8888888888888888,
                            "#fdca26"
                          ],
                          [
                            1,
                            "#f0f921"
                          ]
                        ],
                        "type": "histogram2dcontour"
                      }
                    ],
                    "mesh3d": [
                      {
                        "colorbar": {
                          "outlinewidth": 0,
                          "ticks": ""
                        },
                        "type": "mesh3d"
                      }
                    ],
                    "parcoords": [
                      {
                        "line": {
                          "colorbar": {
                            "outlinewidth": 0,
                            "ticks": ""
                          }
                        },
                        "type": "parcoords"
                      }
                    ],
                    "pie": [
                      {
                        "automargin": true,
                        "type": "pie"
                      }
                    ],
                    "scatter": [
                      {
                        "fillpattern": {
                          "fillmode": "overlay",
                          "size": 10,
                          "solidity": 0.2
                        },
                        "type": "scatter"
                      }
                    ],
                    "scatter3d": [
                      {
                        "line": {
                          "colorbar": {
                            "outlinewidth": 0,
                            "ticks": ""
                          }
                        },
                        "marker": {
                          "colorbar": {
                            "outlinewidth": 0,
                            "ticks": ""
                          }
                        },
                        "type": "scatter3d"
                      }
                    ],
                    "scattercarpet": [
                      {
                        "marker": {
                          "colorbar": {
                            "outlinewidth": 0,
                            "ticks": ""
                          }
                        },
                        "type": "scattercarpet"
                      }
                    ],
                    "scattergeo": [
                      {
                        "marker": {
                          "colorbar": {
                            "outlinewidth": 0,
                            "ticks": ""
                          }
                        },
                        "type": "scattergeo"
                      }
                    ],
                    "scattergl": [
                      {
                        "marker": {
                          "colorbar": {
                            "outlinewidth": 0,
                            "ticks": ""
                          }
                        },
                        "type": "scattergl"
                      }
                    ],
                    "scattermapbox": [
                      {
                        "marker": {
                          "colorbar": {
                            "outlinewidth": 0,
                            "ticks": ""
                          }
                        },
                        "type": "scattermapbox"
                      }
                    ],
                    "scatterpolar": [
                      {
                        "marker": {
                          "colorbar": {
                            "outlinewidth": 0,
                            "ticks": ""
                          }
                        },
                        "type": "scatterpolar"
                      }
                    ],
                    "scatterpolargl": [
                      {
                        "marker": {
                          "colorbar": {
                            "outlinewidth": 0,
                            "ticks": ""
                          }
                        },
                        "type": "scatterpolargl"
                      }
                    ],
                    "scatterternary": [
                      {
                        "marker": {
                          "colorbar": {
                            "outlinewidth": 0,
                            "ticks": ""
                          }
                        },
                        "type": "scatterternary"
                      }
                    ],
                    "surface": [
                      {
                        "colorbar": {
                          "outlinewidth": 0,
                          "ticks": ""
                        },
                        "colorscale": [
                          [
                            0,
                            "#0d0887"
                          ],
                          [
                            0.1111111111111111,
                            "#46039f"
                          ],
                          [
                            0.2222222222222222,
                            "#7201a8"
                          ],
                          [
                            0.3333333333333333,
                            "#9c179e"
                          ],
                          [
                            0.4444444444444444,
                            "#bd3786"
                          ],
                          [
                            0.5555555555555556,
                            "#d8576b"
                          ],
                          [
                            0.6666666666666666,
                            "#ed7953"
                          ],
                          [
                            0.7777777777777778,
                            "#fb9f3a"
                          ],
                          [
                            0.8888888888888888,
                            "#fdca26"
                          ],
                          [
                            1,
                            "#f0f921"
                          ]
                        ],
                        "type": "surface"
                      }
                    ],
                    "table": [
                      {
                        "cells": {
                          "fill": {
                            "color": "#EBF0F8"
                          },
                          "line": {
                            "color": "white"
                          }
                        },
                        "header": {
                          "fill": {
                            "color": "#C8D4E3"
                          },
                          "line": {
                            "color": "white"
                          }
                        },
                        "type": "table"
                      }
                    ]
                  },
                  "layout": {
                    "annotationdefaults": {
                      "arrowcolor": "#2a3f5f",
                      "arrowhead": 0,
                      "arrowwidth": 1
                    },
                    "autotypenumbers": "strict",
                    "coloraxis": {
                      "colorbar": {
                        "outlinewidth": 0,
                        "ticks": ""
                      }
                    },
                    "colorscale": {
                      "diverging": [
                        [
                          0,
                          "#8e0152"
                        ],
                        [
                          0.1,
                          "#c51b7d"
                        ],
                        [
                          0.2,
                          "#de77ae"
                        ],
                        [
                          0.3,
                          "#f1b6da"
                        ],
                        [
                          0.4,
                          "#fde0ef"
                        ],
                        [
                          0.5,
                          "#f7f7f7"
                        ],
                        [
                          0.6,
                          "#e6f5d0"
                        ],
                        [
                          0.7,
                          "#b8e186"
                        ],
                        [
                          0.8,
                          "#7fbc41"
                        ],
                        [
                          0.9,
                          "#4d9221"
                        ],
                        [
                          1,
                          "#276419"
                        ]
                      ],
                      "sequential": [
                        [
                          0,
                          "#0d0887"
                        ],
                        [
                          0.1111111111111111,
                          "#46039f"
                        ],
                        [
                          0.2222222222222222,
                          "#7201a8"
                        ],
                        [
                          0.3333333333333333,
                          "#9c179e"
                        ],
                        [
                          0.4444444444444444,
                          "#bd3786"
                        ],
                        [
                          0.5555555555555556,
                          "#d8576b"
                        ],
                        [
                          0.6666666666666666,
                          "#ed7953"
                        ],
                        [
                          0.7777777777777778,
                          "#fb9f3a"
                        ],
                        [
                          0.8888888888888888,
                          "#fdca26"
                        ],
                        [
                          1,
                          "#f0f921"
                        ]
                      ],
                      "sequentialminus": [
                        [
                          0,
                          "#0d0887"
                        ],
                        [
                          0.1111111111111111,
                          "#46039f"
                        ],
                        [
                          0.2222222222222222,
                          "#7201a8"
                        ],
                        [
                          0.3333333333333333,
                          "#9c179e"
                        ],
                        [
                          0.4444444444444444,
                          "#bd3786"
                        ],
                        [
                          0.5555555555555556,
                          "#d8576b"
                        ],
                        [
                          0.6666666666666666,
                          "#ed7953"
                        ],
                        [
                          0.7777777777777778,
                          "#fb9f3a"
                        ],
                        [
                          0.8888888888888888,
                          "#fdca26"
                        ],
                        [
                          1,
                          "#f0f921"
                        ]
                      ]
                    },
                    "colorway": [
                      "#636efa",
                      "#EF553B",
                      "#00cc96",
                      "#ab63fa",
                      "#FFA15A",
                      "#19d3f3",
                      "#FF6692",
                      "#B6E880",
                      "#FF97FF",
                      "#FECB52"
                    ],
                    "font": {
                      "color": "#2a3f5f"
                    },
                    "geo": {
                      "bgcolor": "white",
                      "lakecolor": "white",
                      "landcolor": "#E5ECF6",
                      "showlakes": true,
                      "showland": true,
                      "subunitcolor": "white"
                    },
                    "hoverlabel": {
                      "align": "left"
                    },
                    "hovermode": "closest",
                    "mapbox": {
                      "style": "light"
                    },
                    "paper_bgcolor": "white",
                    "plot_bgcolor": "#E5ECF6",
                    "polar": {
                      "angularaxis": {
                        "gridcolor": "white",
                        "linecolor": "white",
                        "ticks": ""
                      },
                      "bgcolor": "#E5ECF6",
                      "radialaxis": {
                        "gridcolor": "white",
                        "linecolor": "white",
                        "ticks": ""
                      }
                    },
                    "scene": {
                      "xaxis": {
                        "backgroundcolor": "#E5ECF6",
                        "gridcolor": "white",
                        "gridwidth": 2,
                        "linecolor": "white",
                        "showbackground": true,
                        "ticks": "",
                        "zerolinecolor": "white"
                      },
                      "yaxis": {
                        "backgroundcolor": "#E5ECF6",
                        "gridcolor": "white",
                        "gridwidth": 2,
                        "linecolor": "white",
                        "showbackground": true,
                        "ticks": "",
                        "zerolinecolor": "white"
                      },
                      "zaxis": {
                        "backgroundcolor": "#E5ECF6",
                        "gridcolor": "white",
                        "gridwidth": 2,
                        "linecolor": "white",
                        "showbackground": true,
                        "ticks": "",
                        "zerolinecolor": "white"
                      }
                    },
                    "shapedefaults": {
                      "line": {
                        "color": "#2a3f5f"
                      }
                    },
                    "ternary": {
                      "aaxis": {
                        "gridcolor": "white",
                        "linecolor": "white",
                        "ticks": ""
                      },
                      "baxis": {
                        "gridcolor": "white",
                        "linecolor": "white",
                        "ticks": ""
                      },
                      "bgcolor": "#E5ECF6",
                      "caxis": {
                        "gridcolor": "white",
                        "linecolor": "white",
                        "ticks": ""
                      }
                    },
                    "title": {
                      "x": 0.05
                    },
                    "xaxis": {
                      "automargin": true,
                      "gridcolor": "white",
                      "linecolor": "white",
                      "ticks": "",
                      "title": {
                        "standoff": 15
                      },
                      "zerolinecolor": "white",
                      "zerolinewidth": 2
                    },
                    "yaxis": {
                      "automargin": true,
                      "gridcolor": "white",
                      "linecolor": "white",
                      "ticks": "",
                      "title": {
                        "standoff": 15
                      },
                      "zerolinecolor": "white",
                      "zerolinewidth": 2
                    }
                  }
                },
                "title": {
                  "text": "Défaut de remboursement par tranche d'âge",
                  "x": 0.5
                },
                "xaxis": {
                  "anchor": "y",
                  "domain": [
                    0,
                    1
                  ],
                  "title": {
                    "text": "Tranche d'âge (années)"
                  }
                },
                "yaxis": {
                  "anchor": "x",
                  "domain": [
                    0,
                    1
                  ],
                  "tickformat": ".0%",
                  "title": {
                    "text": "Défaut de remboursement (%)"
                  }
                }
              }
            }
          },
          "metadata": {},
          "output_type": "display_data"
        }
      ],
      "source": [
        "perform_eda(df)"
      ]
    },
    {
      "cell_type": "markdown",
      "metadata": {
        "id": "e_kUXOQjk8U7"
      },
      "source": [
        "**ANOVA** ?"
      ]
    },
    {
      "cell_type": "markdown",
      "metadata": {
        "id": "FIdBCw9lhb5w"
      },
      "source": [
        "#### **Gestion des NANs**"
      ]
    },
    {
      "cell_type": "markdown",
      "metadata": {
        "id": "6jzuZxZjM85N"
      },
      "source": [
        "**Spliter les variables**"
      ]
    },
    {
      "cell_type": "code",
      "execution_count": 31,
      "metadata": {
        "colab": {
          "base_uri": "https://localhost:8080/"
        },
        "id": "1n3nwsZeNTwk",
        "outputId": "9364f19b-b929-4cbb-9e70-25ed7b6b59d4"
      },
      "outputs": [
        {
          "data": {
            "text/plain": [
              "(244774, 14)"
            ]
          },
          "execution_count": 31,
          "metadata": {},
          "output_type": "execute_result"
        }
      ],
      "source": [
        "df_copy = df.copy()\n",
        "df_copy.shape"
      ]
    },
    {
      "cell_type": "code",
      "execution_count": 42,
      "metadata": {},
      "outputs": [
        {
          "data": {
            "text/html": [
              "<div>\n",
              "<style scoped>\n",
              "    .dataframe tbody tr th:only-of-type {\n",
              "        vertical-align: middle;\n",
              "    }\n",
              "\n",
              "    .dataframe tbody tr th {\n",
              "        vertical-align: top;\n",
              "    }\n",
              "\n",
              "    .dataframe thead th {\n",
              "        text-align: right;\n",
              "    }\n",
              "</style>\n",
              "<table border=\"1\" class=\"dataframe\">\n",
              "  <thead>\n",
              "    <tr style=\"text-align: right;\">\n",
              "      <th></th>\n",
              "      <th>SK_ID_CURR</th>\n",
              "      <th>TARGET</th>\n",
              "      <th>EXT_SOURCE_3</th>\n",
              "      <th>EXT_SOURCE_2</th>\n",
              "      <th>DAYS_BIRTH</th>\n",
              "      <th>bureau_DAYS_CREDIT_max</th>\n",
              "      <th>bureau_DAYS_CREDIT_min</th>\n",
              "      <th>bureau_DAYS_CREDIT_UPDATE_mean</th>\n",
              "      <th>bureau_DAYS_CREDIT_mean</th>\n",
              "      <th>bureau_CREDIT_ACTIVE_Closed_mean</th>\n",
              "      <th>NAME_CONTRACT_TYPE</th>\n",
              "      <th>CODE_GENDER</th>\n",
              "      <th>FLAG_OWN_CAR</th>\n",
              "      <th>bureau_CREDIT_ACTIVE_Active_mean</th>\n",
              "    </tr>\n",
              "  </thead>\n",
              "  <tbody>\n",
              "    <tr>\n",
              "      <th>0</th>\n",
              "      <td>100002</td>\n",
              "      <td>1</td>\n",
              "      <td>0.139404</td>\n",
              "      <td>0.262939</td>\n",
              "      <td>25.920547</td>\n",
              "      <td>0.282192</td>\n",
              "      <td>3.936986</td>\n",
              "      <td>1.369863</td>\n",
              "      <td>2.394521</td>\n",
              "      <td>0.750000</td>\n",
              "      <td>Cash loans</td>\n",
              "      <td>M</td>\n",
              "      <td>N</td>\n",
              "      <td>0.250000</td>\n",
              "    </tr>\n",
              "    <tr>\n",
              "      <th>2</th>\n",
              "      <td>100004</td>\n",
              "      <td>0</td>\n",
              "      <td>0.729492</td>\n",
              "      <td>0.556152</td>\n",
              "      <td>52.180820</td>\n",
              "      <td>1.117808</td>\n",
              "      <td>3.632877</td>\n",
              "      <td>1.457534</td>\n",
              "      <td>2.375342</td>\n",
              "      <td>1.000000</td>\n",
              "      <td>Revolving loans</td>\n",
              "      <td>M</td>\n",
              "      <td>Y</td>\n",
              "      <td>0.000000</td>\n",
              "    </tr>\n",
              "    <tr>\n",
              "      <th>5</th>\n",
              "      <td>100008</td>\n",
              "      <td>0</td>\n",
              "      <td>0.621094</td>\n",
              "      <td>0.354248</td>\n",
              "      <td>46.413700</td>\n",
              "      <td>0.213699</td>\n",
              "      <td>3.005479</td>\n",
              "      <td>1.673973</td>\n",
              "      <td>2.075342</td>\n",
              "      <td>0.666504</td>\n",
              "      <td>Cash loans</td>\n",
              "      <td>M</td>\n",
              "      <td>N</td>\n",
              "      <td>0.333252</td>\n",
              "    </tr>\n",
              "    <tr>\n",
              "      <th>6</th>\n",
              "      <td>100009</td>\n",
              "      <td>0</td>\n",
              "      <td>0.491943</td>\n",
              "      <td>0.724121</td>\n",
              "      <td>37.747944</td>\n",
              "      <td>0.654795</td>\n",
              "      <td>7.895890</td>\n",
              "      <td>2.332877</td>\n",
              "      <td>3.484931</td>\n",
              "      <td>0.777832</td>\n",
              "      <td>Cash loans</td>\n",
              "      <td>F</td>\n",
              "      <td>Y</td>\n",
              "      <td>0.222168</td>\n",
              "    </tr>\n",
              "    <tr>\n",
              "      <th>7</th>\n",
              "      <td>100010</td>\n",
              "      <td>0</td>\n",
              "      <td>0.540527</td>\n",
              "      <td>0.714355</td>\n",
              "      <td>51.643837</td>\n",
              "      <td>3.117808</td>\n",
              "      <td>7.506849</td>\n",
              "      <td>1.583562</td>\n",
              "      <td>5.315069</td>\n",
              "      <td>0.500000</td>\n",
              "      <td>Cash loans</td>\n",
              "      <td>M</td>\n",
              "      <td>Y</td>\n",
              "      <td>0.500000</td>\n",
              "    </tr>\n",
              "    <tr>\n",
              "      <th>...</th>\n",
              "      <td>...</td>\n",
              "      <td>...</td>\n",
              "      <td>...</td>\n",
              "      <td>...</td>\n",
              "      <td>...</td>\n",
              "      <td>...</td>\n",
              "      <td>...</td>\n",
              "      <td>...</td>\n",
              "      <td>...</td>\n",
              "      <td>...</td>\n",
              "      <td>...</td>\n",
              "      <td>...</td>\n",
              "      <td>...</td>\n",
              "      <td>...</td>\n",
              "    </tr>\n",
              "    <tr>\n",
              "      <th>307503</th>\n",
              "      <td>456247</td>\n",
              "      <td>0</td>\n",
              "      <td>0.609375</td>\n",
              "      <td>0.501465</td>\n",
              "      <td>32.520550</td>\n",
              "      <td>0.786301</td>\n",
              "      <td>6.800000</td>\n",
              "      <td>2.106849</td>\n",
              "      <td>2.857534</td>\n",
              "      <td>0.727051</td>\n",
              "      <td>Cash loans</td>\n",
              "      <td>F</td>\n",
              "      <td>N</td>\n",
              "      <td>0.272705</td>\n",
              "    </tr>\n",
              "    <tr>\n",
              "      <th>307505</th>\n",
              "      <td>456249</td>\n",
              "      <td>0</td>\n",
              "      <td>0.742188</td>\n",
              "      <td>0.346436</td>\n",
              "      <td>66.805481</td>\n",
              "      <td>1.323288</td>\n",
              "      <td>7.430137</td>\n",
              "      <td>2.917808</td>\n",
              "      <td>4.567123</td>\n",
              "      <td>0.846191</td>\n",
              "      <td>Cash loans</td>\n",
              "      <td>F</td>\n",
              "      <td>N</td>\n",
              "      <td>0.153809</td>\n",
              "    </tr>\n",
              "    <tr>\n",
              "      <th>307508</th>\n",
              "      <td>456253</td>\n",
              "      <td>0</td>\n",
              "      <td>0.218872</td>\n",
              "      <td>0.535645</td>\n",
              "      <td>41.002739</td>\n",
              "      <td>1.953425</td>\n",
              "      <td>2.517808</td>\n",
              "      <td>0.693836</td>\n",
              "      <td>2.376712</td>\n",
              "      <td>0.500000</td>\n",
              "      <td>Cash loans</td>\n",
              "      <td>F</td>\n",
              "      <td>N</td>\n",
              "      <td>0.500000</td>\n",
              "    </tr>\n",
              "    <tr>\n",
              "      <th>307509</th>\n",
              "      <td>456254</td>\n",
              "      <td>1</td>\n",
              "      <td>0.661133</td>\n",
              "      <td>0.514160</td>\n",
              "      <td>32.769863</td>\n",
              "      <td>3.024657</td>\n",
              "      <td>3.024657</td>\n",
              "      <td>1.098630</td>\n",
              "      <td>3.024657</td>\n",
              "      <td>1.000000</td>\n",
              "      <td>Cash loans</td>\n",
              "      <td>F</td>\n",
              "      <td>N</td>\n",
              "      <td>0.000000</td>\n",
              "    </tr>\n",
              "    <tr>\n",
              "      <th>307510</th>\n",
              "      <td>456255</td>\n",
              "      <td>0</td>\n",
              "      <td>0.113953</td>\n",
              "      <td>0.708496</td>\n",
              "      <td>46.180820</td>\n",
              "      <td>0.994521</td>\n",
              "      <td>6.400000</td>\n",
              "      <td>1.454795</td>\n",
              "      <td>2.983562</td>\n",
              "      <td>0.545410</td>\n",
              "      <td>Cash loans</td>\n",
              "      <td>F</td>\n",
              "      <td>N</td>\n",
              "      <td>0.454590</td>\n",
              "    </tr>\n",
              "  </tbody>\n",
              "</table>\n",
              "<p>244774 rows × 14 columns</p>\n",
              "</div>"
            ],
            "text/plain": [
              "        SK_ID_CURR  TARGET  EXT_SOURCE_3  EXT_SOURCE_2  DAYS_BIRTH   \n",
              "0           100002       1      0.139404      0.262939   25.920547  \\\n",
              "2           100004       0      0.729492      0.556152   52.180820   \n",
              "5           100008       0      0.621094      0.354248   46.413700   \n",
              "6           100009       0      0.491943      0.724121   37.747944   \n",
              "7           100010       0      0.540527      0.714355   51.643837   \n",
              "...            ...     ...           ...           ...         ...   \n",
              "307503      456247       0      0.609375      0.501465   32.520550   \n",
              "307505      456249       0      0.742188      0.346436   66.805481   \n",
              "307508      456253       0      0.218872      0.535645   41.002739   \n",
              "307509      456254       1      0.661133      0.514160   32.769863   \n",
              "307510      456255       0      0.113953      0.708496   46.180820   \n",
              "\n",
              "        bureau_DAYS_CREDIT_max  bureau_DAYS_CREDIT_min   \n",
              "0                     0.282192                3.936986  \\\n",
              "2                     1.117808                3.632877   \n",
              "5                     0.213699                3.005479   \n",
              "6                     0.654795                7.895890   \n",
              "7                     3.117808                7.506849   \n",
              "...                        ...                     ...   \n",
              "307503                0.786301                6.800000   \n",
              "307505                1.323288                7.430137   \n",
              "307508                1.953425                2.517808   \n",
              "307509                3.024657                3.024657   \n",
              "307510                0.994521                6.400000   \n",
              "\n",
              "        bureau_DAYS_CREDIT_UPDATE_mean  bureau_DAYS_CREDIT_mean   \n",
              "0                             1.369863                 2.394521  \\\n",
              "2                             1.457534                 2.375342   \n",
              "5                             1.673973                 2.075342   \n",
              "6                             2.332877                 3.484931   \n",
              "7                             1.583562                 5.315069   \n",
              "...                                ...                      ...   \n",
              "307503                        2.106849                 2.857534   \n",
              "307505                        2.917808                 4.567123   \n",
              "307508                        0.693836                 2.376712   \n",
              "307509                        1.098630                 3.024657   \n",
              "307510                        1.454795                 2.983562   \n",
              "\n",
              "        bureau_CREDIT_ACTIVE_Closed_mean NAME_CONTRACT_TYPE CODE_GENDER   \n",
              "0                               0.750000         Cash loans           M  \\\n",
              "2                               1.000000    Revolving loans           M   \n",
              "5                               0.666504         Cash loans           M   \n",
              "6                               0.777832         Cash loans           F   \n",
              "7                               0.500000         Cash loans           M   \n",
              "...                                  ...                ...         ...   \n",
              "307503                          0.727051         Cash loans           F   \n",
              "307505                          0.846191         Cash loans           F   \n",
              "307508                          0.500000         Cash loans           F   \n",
              "307509                          1.000000         Cash loans           F   \n",
              "307510                          0.545410         Cash loans           F   \n",
              "\n",
              "       FLAG_OWN_CAR  bureau_CREDIT_ACTIVE_Active_mean  \n",
              "0                 N                          0.250000  \n",
              "2                 Y                          0.000000  \n",
              "5                 N                          0.333252  \n",
              "6                 Y                          0.222168  \n",
              "7                 Y                          0.500000  \n",
              "...             ...                               ...  \n",
              "307503            N                          0.272705  \n",
              "307505            N                          0.153809  \n",
              "307508            N                          0.500000  \n",
              "307509            N                          0.000000  \n",
              "307510            N                          0.454590  \n",
              "\n",
              "[244774 rows x 14 columns]"
            ]
          },
          "execution_count": 42,
          "metadata": {},
          "output_type": "execute_result"
        }
      ],
      "source": [
        "# On convertie les jours en années\n",
        "df_copy[['DAYS_BIRTH','bureau_DAYS_CREDIT_max', 'bureau_DAYS_CREDIT_min', 'bureau_DAYS_CREDIT_UPDATE_mean'\n",
        "     , 'bureau_DAYS_CREDIT_mean']] = df_copy[['DAYS_BIRTH','bureau_DAYS_CREDIT_max', 'bureau_DAYS_CREDIT_min'\n",
        "                                            , 'bureau_DAYS_CREDIT_UPDATE_mean', 'bureau_DAYS_CREDIT_mean']] /-365\n",
        "\n",
        "df_copy"
      ]
    },
    {
      "cell_type": "code",
      "execution_count": 60,
      "metadata": {},
      "outputs": [
        {
          "name": "stdout",
          "output_type": "stream",
          "text": [
            "<class 'pandas.core.frame.DataFrame'>\n",
            "Index: 244774 entries, 0 to 307510\n",
            "Data columns (total 14 columns):\n",
            " #   Column                            Non-Null Count   Dtype  \n",
            "---  ------                            --------------   -----  \n",
            " 0   SK_ID_CURR                        244774 non-null  int32  \n",
            " 1   TARGET                            244774 non-null  int8   \n",
            " 2   EXT_SOURCE_3                      244774 non-null  float16\n",
            " 3   EXT_SOURCE_2                      244774 non-null  float16\n",
            " 4   DAYS_BIRTH                        244774 non-null  float32\n",
            " 5   bureau_DAYS_CREDIT_max            244774 non-null  float32\n",
            " 6   bureau_DAYS_CREDIT_min            244774 non-null  float32\n",
            " 7   bureau_DAYS_CREDIT_UPDATE_mean    244774 non-null  float32\n",
            " 8   bureau_DAYS_CREDIT_mean           244774 non-null  float32\n",
            " 9   bureau_CREDIT_ACTIVE_Closed_mean  244774 non-null  float16\n",
            " 10  NAME_CONTRACT_TYPE                244774 non-null  object \n",
            " 11  CODE_GENDER                       244774 non-null  object \n",
            " 12  FLAG_OWN_CAR                      244774 non-null  object \n",
            " 13  bureau_CREDIT_ACTIVE_Active_mean  244774 non-null  float16\n",
            "dtypes: float16(4), float32(5), int32(1), int8(1), object(3)\n",
            "memory usage: 15.2+ MB\n"
          ]
        }
      ],
      "source": [
        "df_copy.info()"
      ]
    },
    {
      "cell_type": "code",
      "execution_count": 43,
      "metadata": {
        "id": "EG4OxqkJNC-E"
      },
      "outputs": [],
      "source": [
        "quant_cols = df_copy.select_dtypes(exclude='object').columns.to_list()\n",
        "cat_cols = df_copy.select_dtypes(include='object').columns.to_list()"
      ]
    },
    {
      "cell_type": "code",
      "execution_count": 44,
      "metadata": {
        "colab": {
          "base_uri": "https://localhost:8080/",
          "height": 225
        },
        "id": "jSVMEiqRK_mk",
        "outputId": "2e291b4b-e464-4ade-c9ab-980db3e2f80e"
      },
      "outputs": [
        {
          "data": {
            "text/plain": [
              "['SK_ID_CURR',\n",
              " 'TARGET',\n",
              " 'EXT_SOURCE_3',\n",
              " 'EXT_SOURCE_2',\n",
              " 'DAYS_BIRTH',\n",
              " 'bureau_DAYS_CREDIT_max',\n",
              " 'bureau_DAYS_CREDIT_min',\n",
              " 'bureau_DAYS_CREDIT_UPDATE_mean',\n",
              " 'bureau_DAYS_CREDIT_mean',\n",
              " 'bureau_CREDIT_ACTIVE_Closed_mean',\n",
              " 'bureau_CREDIT_ACTIVE_Active_mean']"
            ]
          },
          "metadata": {},
          "output_type": "display_data"
        },
        {
          "name": "stdout",
          "output_type": "stream",
          "text": [
            "['NAME_CONTRACT_TYPE', 'CODE_GENDER', 'FLAG_OWN_CAR']\n"
          ]
        }
      ],
      "source": [
        "display(quant_cols)\n",
        "print(cat_cols)"
      ]
    },
    {
      "cell_type": "code",
      "execution_count": 45,
      "metadata": {
        "colab": {
          "base_uri": "https://localhost:8080/",
          "height": 383
        },
        "id": "OzEH8b8mPyDz",
        "outputId": "7628fa40-93c7-424c-d0bc-06e6673447b3"
      },
      "outputs": [
        {
          "data": {
            "text/html": [
              "<div>\n",
              "<style scoped>\n",
              "    .dataframe tbody tr th:only-of-type {\n",
              "        vertical-align: middle;\n",
              "    }\n",
              "\n",
              "    .dataframe tbody tr th {\n",
              "        vertical-align: top;\n",
              "    }\n",
              "\n",
              "    .dataframe thead th {\n",
              "        text-align: right;\n",
              "    }\n",
              "</style>\n",
              "<table border=\"1\" class=\"dataframe\">\n",
              "  <thead>\n",
              "    <tr style=\"text-align: right;\">\n",
              "      <th></th>\n",
              "      <th>TARGET</th>\n",
              "      <th>EXT_SOURCE_3</th>\n",
              "      <th>EXT_SOURCE_2</th>\n",
              "      <th>DAYS_BIRTH</th>\n",
              "      <th>bureau_DAYS_CREDIT_max</th>\n",
              "      <th>bureau_DAYS_CREDIT_min</th>\n",
              "      <th>bureau_DAYS_CREDIT_UPDATE_mean</th>\n",
              "      <th>bureau_DAYS_CREDIT_mean</th>\n",
              "      <th>bureau_CREDIT_ACTIVE_Closed_mean</th>\n",
              "      <th>bureau_CREDIT_ACTIVE_Active_mean</th>\n",
              "    </tr>\n",
              "  </thead>\n",
              "  <tbody>\n",
              "    <tr>\n",
              "      <th>TARGET</th>\n",
              "      <td>1.000000</td>\n",
              "      <td>-0.179914</td>\n",
              "      <td>-0.154030</td>\n",
              "      <td>-0.078630</td>\n",
              "      <td>-0.052004</td>\n",
              "      <td>-0.077731</td>\n",
              "      <td>-0.073591</td>\n",
              "      <td>-0.094172</td>\n",
              "      <td>-0.082922</td>\n",
              "      <td>0.081261</td>\n",
              "    </tr>\n",
              "    <tr>\n",
              "      <th>EXT_SOURCE_3</th>\n",
              "      <td>-0.179914</td>\n",
              "      <td>1.000000</td>\n",
              "      <td>0.109073</td>\n",
              "      <td>0.204163</td>\n",
              "      <td>0.390192</td>\n",
              "      <td>0.226359</td>\n",
              "      <td>0.334620</td>\n",
              "      <td>0.401751</td>\n",
              "      <td>0.361213</td>\n",
              "      <td>-0.357497</td>\n",
              "    </tr>\n",
              "    <tr>\n",
              "      <th>EXT_SOURCE_2</th>\n",
              "      <td>-0.154030</td>\n",
              "      <td>0.109073</td>\n",
              "      <td>1.000000</td>\n",
              "      <td>0.084194</td>\n",
              "      <td>0.054645</td>\n",
              "      <td>0.103482</td>\n",
              "      <td>0.058805</td>\n",
              "      <td>0.111642</td>\n",
              "      <td>0.045414</td>\n",
              "      <td>-0.044454</td>\n",
              "    </tr>\n",
              "    <tr>\n",
              "      <th>DAYS_BIRTH</th>\n",
              "      <td>-0.078630</td>\n",
              "      <td>0.204163</td>\n",
              "      <td>0.084194</td>\n",
              "      <td>1.000000</td>\n",
              "      <td>0.089227</td>\n",
              "      <td>0.225819</td>\n",
              "      <td>0.163050</td>\n",
              "      <td>0.207159</td>\n",
              "      <td>0.114713</td>\n",
              "      <td>-0.115142</td>\n",
              "    </tr>\n",
              "    <tr>\n",
              "      <th>bureau_DAYS_CREDIT_max</th>\n",
              "      <td>-0.052004</td>\n",
              "      <td>0.390192</td>\n",
              "      <td>0.054645</td>\n",
              "      <td>0.089227</td>\n",
              "      <td>1.000000</td>\n",
              "      <td>0.175028</td>\n",
              "      <td>0.420383</td>\n",
              "      <td>0.626561</td>\n",
              "      <td>0.307585</td>\n",
              "      <td>-0.313374</td>\n",
              "    </tr>\n",
              "    <tr>\n",
              "      <th>bureau_DAYS_CREDIT_min</th>\n",
              "      <td>-0.077731</td>\n",
              "      <td>0.226359</td>\n",
              "      <td>0.103482</td>\n",
              "      <td>0.225819</td>\n",
              "      <td>0.175028</td>\n",
              "      <td>1.000000</td>\n",
              "      <td>0.634656</td>\n",
              "      <td>0.809478</td>\n",
              "      <td>0.419884</td>\n",
              "      <td>-0.424992</td>\n",
              "    </tr>\n",
              "    <tr>\n",
              "      <th>bureau_DAYS_CREDIT_UPDATE_mean</th>\n",
              "      <td>-0.073591</td>\n",
              "      <td>0.334620</td>\n",
              "      <td>0.058805</td>\n",
              "      <td>0.163050</td>\n",
              "      <td>0.420383</td>\n",
              "      <td>0.634656</td>\n",
              "      <td>1.000000</td>\n",
              "      <td>0.749378</td>\n",
              "      <td>0.558850</td>\n",
              "      <td>-0.563295</td>\n",
              "    </tr>\n",
              "    <tr>\n",
              "      <th>bureau_DAYS_CREDIT_mean</th>\n",
              "      <td>-0.094172</td>\n",
              "      <td>0.401751</td>\n",
              "      <td>0.111642</td>\n",
              "      <td>0.207159</td>\n",
              "      <td>0.626561</td>\n",
              "      <td>0.809478</td>\n",
              "      <td>0.749378</td>\n",
              "      <td>1.000000</td>\n",
              "      <td>0.496291</td>\n",
              "      <td>-0.503249</td>\n",
              "    </tr>\n",
              "    <tr>\n",
              "      <th>bureau_CREDIT_ACTIVE_Closed_mean</th>\n",
              "      <td>-0.082922</td>\n",
              "      <td>0.361213</td>\n",
              "      <td>0.045414</td>\n",
              "      <td>0.114713</td>\n",
              "      <td>0.307585</td>\n",
              "      <td>0.419884</td>\n",
              "      <td>0.558850</td>\n",
              "      <td>0.496291</td>\n",
              "      <td>1.000000</td>\n",
              "      <td>-0.993635</td>\n",
              "    </tr>\n",
              "    <tr>\n",
              "      <th>bureau_CREDIT_ACTIVE_Active_mean</th>\n",
              "      <td>0.081261</td>\n",
              "      <td>-0.357497</td>\n",
              "      <td>-0.044454</td>\n",
              "      <td>-0.115142</td>\n",
              "      <td>-0.313374</td>\n",
              "      <td>-0.424992</td>\n",
              "      <td>-0.563295</td>\n",
              "      <td>-0.503249</td>\n",
              "      <td>-0.993635</td>\n",
              "      <td>1.000000</td>\n",
              "    </tr>\n",
              "  </tbody>\n",
              "</table>\n",
              "</div>"
            ],
            "text/plain": [
              "                                    TARGET  EXT_SOURCE_3  EXT_SOURCE_2   \n",
              "TARGET                            1.000000     -0.179914     -0.154030  \\\n",
              "EXT_SOURCE_3                     -0.179914      1.000000      0.109073   \n",
              "EXT_SOURCE_2                     -0.154030      0.109073      1.000000   \n",
              "DAYS_BIRTH                       -0.078630      0.204163      0.084194   \n",
              "bureau_DAYS_CREDIT_max           -0.052004      0.390192      0.054645   \n",
              "bureau_DAYS_CREDIT_min           -0.077731      0.226359      0.103482   \n",
              "bureau_DAYS_CREDIT_UPDATE_mean   -0.073591      0.334620      0.058805   \n",
              "bureau_DAYS_CREDIT_mean          -0.094172      0.401751      0.111642   \n",
              "bureau_CREDIT_ACTIVE_Closed_mean -0.082922      0.361213      0.045414   \n",
              "bureau_CREDIT_ACTIVE_Active_mean  0.081261     -0.357497     -0.044454   \n",
              "\n",
              "                                  DAYS_BIRTH  bureau_DAYS_CREDIT_max   \n",
              "TARGET                             -0.078630               -0.052004  \\\n",
              "EXT_SOURCE_3                        0.204163                0.390192   \n",
              "EXT_SOURCE_2                        0.084194                0.054645   \n",
              "DAYS_BIRTH                          1.000000                0.089227   \n",
              "bureau_DAYS_CREDIT_max              0.089227                1.000000   \n",
              "bureau_DAYS_CREDIT_min              0.225819                0.175028   \n",
              "bureau_DAYS_CREDIT_UPDATE_mean      0.163050                0.420383   \n",
              "bureau_DAYS_CREDIT_mean             0.207159                0.626561   \n",
              "bureau_CREDIT_ACTIVE_Closed_mean    0.114713                0.307585   \n",
              "bureau_CREDIT_ACTIVE_Active_mean   -0.115142               -0.313374   \n",
              "\n",
              "                                  bureau_DAYS_CREDIT_min   \n",
              "TARGET                                         -0.077731  \\\n",
              "EXT_SOURCE_3                                    0.226359   \n",
              "EXT_SOURCE_2                                    0.103482   \n",
              "DAYS_BIRTH                                      0.225819   \n",
              "bureau_DAYS_CREDIT_max                          0.175028   \n",
              "bureau_DAYS_CREDIT_min                          1.000000   \n",
              "bureau_DAYS_CREDIT_UPDATE_mean                  0.634656   \n",
              "bureau_DAYS_CREDIT_mean                         0.809478   \n",
              "bureau_CREDIT_ACTIVE_Closed_mean                0.419884   \n",
              "bureau_CREDIT_ACTIVE_Active_mean               -0.424992   \n",
              "\n",
              "                                  bureau_DAYS_CREDIT_UPDATE_mean   \n",
              "TARGET                                                 -0.073591  \\\n",
              "EXT_SOURCE_3                                            0.334620   \n",
              "EXT_SOURCE_2                                            0.058805   \n",
              "DAYS_BIRTH                                              0.163050   \n",
              "bureau_DAYS_CREDIT_max                                  0.420383   \n",
              "bureau_DAYS_CREDIT_min                                  0.634656   \n",
              "bureau_DAYS_CREDIT_UPDATE_mean                          1.000000   \n",
              "bureau_DAYS_CREDIT_mean                                 0.749378   \n",
              "bureau_CREDIT_ACTIVE_Closed_mean                        0.558850   \n",
              "bureau_CREDIT_ACTIVE_Active_mean                       -0.563295   \n",
              "\n",
              "                                  bureau_DAYS_CREDIT_mean   \n",
              "TARGET                                          -0.094172  \\\n",
              "EXT_SOURCE_3                                     0.401751   \n",
              "EXT_SOURCE_2                                     0.111642   \n",
              "DAYS_BIRTH                                       0.207159   \n",
              "bureau_DAYS_CREDIT_max                           0.626561   \n",
              "bureau_DAYS_CREDIT_min                           0.809478   \n",
              "bureau_DAYS_CREDIT_UPDATE_mean                   0.749378   \n",
              "bureau_DAYS_CREDIT_mean                          1.000000   \n",
              "bureau_CREDIT_ACTIVE_Closed_mean                 0.496291   \n",
              "bureau_CREDIT_ACTIVE_Active_mean                -0.503249   \n",
              "\n",
              "                                  bureau_CREDIT_ACTIVE_Closed_mean   \n",
              "TARGET                                                   -0.082922  \\\n",
              "EXT_SOURCE_3                                              0.361213   \n",
              "EXT_SOURCE_2                                              0.045414   \n",
              "DAYS_BIRTH                                                0.114713   \n",
              "bureau_DAYS_CREDIT_max                                    0.307585   \n",
              "bureau_DAYS_CREDIT_min                                    0.419884   \n",
              "bureau_DAYS_CREDIT_UPDATE_mean                            0.558850   \n",
              "bureau_DAYS_CREDIT_mean                                   0.496291   \n",
              "bureau_CREDIT_ACTIVE_Closed_mean                          1.000000   \n",
              "bureau_CREDIT_ACTIVE_Active_mean                         -0.993635   \n",
              "\n",
              "                                  bureau_CREDIT_ACTIVE_Active_mean  \n",
              "TARGET                                                    0.081261  \n",
              "EXT_SOURCE_3                                             -0.357497  \n",
              "EXT_SOURCE_2                                             -0.044454  \n",
              "DAYS_BIRTH                                               -0.115142  \n",
              "bureau_DAYS_CREDIT_max                                   -0.313374  \n",
              "bureau_DAYS_CREDIT_min                                   -0.424992  \n",
              "bureau_DAYS_CREDIT_UPDATE_mean                           -0.563295  \n",
              "bureau_DAYS_CREDIT_mean                                  -0.503249  \n",
              "bureau_CREDIT_ACTIVE_Closed_mean                         -0.993635  \n",
              "bureau_CREDIT_ACTIVE_Active_mean                          1.000000  "
            ]
          },
          "execution_count": 45,
          "metadata": {},
          "output_type": "execute_result"
        }
      ],
      "source": [
        "# La Matrice de corrélation\n",
        "train_imp_copy = df_copy.copy()\n",
        "corr = train_imp_copy.drop('SK_ID_CURR',axis = 1).corr(numeric_only=True)\n",
        "corr"
      ]
    },
    {
      "cell_type": "markdown",
      "metadata": {
        "id": "23x6GWfSTrVB"
      },
      "source": [
        "**Pipeline**"
      ]
    },
    {
      "cell_type": "code",
      "execution_count": 35,
      "metadata": {
        "id": "sk8FAlMYYOy3"
      },
      "outputs": [],
      "source": [
        "numeric_features = quant_cols\n",
        "categorical_features = cat_cols"
      ]
    },
    {
      "cell_type": "markdown",
      "metadata": {
        "id": "f0jjjBWHZhOI"
      },
      "source": [
        "**Modelisation**"
      ]
    },
    {
      "cell_type": "markdown",
      "metadata": {
        "id": "VscCqQgAUDmC"
      },
      "source": [
        "**Spliter le dataset**"
      ]
    },
    {
      "cell_type": "code",
      "execution_count": 61,
      "metadata": {
        "id": "tKiQevRDUH0K"
      },
      "outputs": [],
      "source": [
        "#  spliter le daataset en trois jeux\n",
        "train, test = train_test_split(df_copy, test_size= 0.3, random_state=123)\n",
        "\n",
        "test, validation = train_test_split(test, test_size= 0.5, random_state=123)"
      ]
    },
    {
      "cell_type": "code",
      "execution_count": 37,
      "metadata": {
        "colab": {
          "base_uri": "https://localhost:8080/"
        },
        "id": "Vu1_AtuZVFCR",
        "outputId": "e535b771-51ab-4b0a-e8ab-4dbb14650e1d"
      },
      "outputs": [
        {
          "name": "stdout",
          "output_type": "stream",
          "text": [
            "(171341, 14)\n",
            "(36716, 14)\n",
            "(36717, 14)\n"
          ]
        }
      ],
      "source": [
        "print(train.shape)\n",
        "print(test.shape)\n",
        "print(validation.shape)"
      ]
    },
    {
      "cell_type": "code",
      "execution_count": 46,
      "metadata": {
        "id": "8DQAyDH4Z_0v"
      },
      "outputs": [],
      "source": [
        "# # Enregistrement des différents jeux de données\n",
        "# train.to_csv('train.csv', index = False)\n",
        "# test.to_csv('test.csv', index = False)\n",
        "# validation.to_csv('validation.csv', index = False)"
      ]
    },
    {
      "cell_type": "markdown",
      "metadata": {
        "id": "hUxNUyk7ac4O"
      },
      "source": [
        "**Spliter le trainset**"
      ]
    },
    {
      "cell_type": "code",
      "execution_count": 62,
      "metadata": {
        "id": "m2iVlOdKadSv"
      },
      "outputs": [],
      "source": [
        "X_train, X_val = train.drop('TARGET', axis = 1), validation.drop('TARGET', axis = 1)\n",
        "y_train, y_val = train['TARGET'], validation['TARGET']"
      ]
    },
    {
      "cell_type": "code",
      "execution_count": 63,
      "metadata": {
        "colab": {
          "base_uri": "https://localhost:8080/"
        },
        "id": "0vn-Ifqha2BO",
        "outputId": "763a430f-5cc3-41e9-81fa-77ccc4de724e"
      },
      "outputs": [
        {
          "name": "stdout",
          "output_type": "stream",
          "text": [
            "(171341, 13)\n",
            "(36717, 13)\n",
            "(171341,)\n",
            "(36717,)\n"
          ]
        }
      ],
      "source": [
        "print(X_train.shape)\n",
        "print(X_val.shape)\n",
        "print(y_train.shape)\n",
        "print(y_val.shape)"
      ]
    },
    {
      "cell_type": "code",
      "execution_count": 64,
      "metadata": {
        "colab": {
          "base_uri": "https://localhost:8080/",
          "height": 226
        },
        "id": "EstnXWCvb0lM",
        "outputId": "18e66b2d-f9fd-4f63-830e-d0f4cf30befb"
      },
      "outputs": [
        {
          "data": {
            "text/html": [
              "<div>\n",
              "<style scoped>\n",
              "    .dataframe tbody tr th:only-of-type {\n",
              "        vertical-align: middle;\n",
              "    }\n",
              "\n",
              "    .dataframe tbody tr th {\n",
              "        vertical-align: top;\n",
              "    }\n",
              "\n",
              "    .dataframe thead th {\n",
              "        text-align: right;\n",
              "    }\n",
              "</style>\n",
              "<table border=\"1\" class=\"dataframe\">\n",
              "  <thead>\n",
              "    <tr style=\"text-align: right;\">\n",
              "      <th></th>\n",
              "      <th>SK_ID_CURR</th>\n",
              "      <th>EXT_SOURCE_3</th>\n",
              "      <th>EXT_SOURCE_2</th>\n",
              "      <th>DAYS_BIRTH</th>\n",
              "      <th>bureau_DAYS_CREDIT_max</th>\n",
              "      <th>bureau_DAYS_CREDIT_min</th>\n",
              "      <th>bureau_DAYS_CREDIT_UPDATE_mean</th>\n",
              "      <th>bureau_DAYS_CREDIT_mean</th>\n",
              "      <th>bureau_CREDIT_ACTIVE_Closed_mean</th>\n",
              "      <th>NAME_CONTRACT_TYPE</th>\n",
              "      <th>CODE_GENDER</th>\n",
              "      <th>FLAG_OWN_CAR</th>\n",
              "      <th>bureau_CREDIT_ACTIVE_Active_mean</th>\n",
              "    </tr>\n",
              "  </thead>\n",
              "  <tbody>\n",
              "    <tr>\n",
              "      <th>27498</th>\n",
              "      <td>131965</td>\n",
              "      <td>0.331299</td>\n",
              "      <td>0.802246</td>\n",
              "      <td>44.432877</td>\n",
              "      <td>0.463014</td>\n",
              "      <td>2.953425</td>\n",
              "      <td>1.034247</td>\n",
              "      <td>1.708219</td>\n",
              "      <td>0.500000</td>\n",
              "      <td>Cash loans</td>\n",
              "      <td>M</td>\n",
              "      <td>Y</td>\n",
              "      <td>0.500000</td>\n",
              "    </tr>\n",
              "    <tr>\n",
              "      <th>231837</th>\n",
              "      <td>368531</td>\n",
              "      <td>0.493896</td>\n",
              "      <td>0.447754</td>\n",
              "      <td>36.616440</td>\n",
              "      <td>1.632877</td>\n",
              "      <td>3.589041</td>\n",
              "      <td>0.688356</td>\n",
              "      <td>2.873973</td>\n",
              "      <td>0.399902</td>\n",
              "      <td>Cash loans</td>\n",
              "      <td>F</td>\n",
              "      <td>N</td>\n",
              "      <td>0.600098</td>\n",
              "    </tr>\n",
              "    <tr>\n",
              "      <th>2689</th>\n",
              "      <td>103137</td>\n",
              "      <td>0.713867</td>\n",
              "      <td>0.657227</td>\n",
              "      <td>63.849316</td>\n",
              "      <td>0.432877</td>\n",
              "      <td>6.235616</td>\n",
              "      <td>3.019178</td>\n",
              "      <td>4.578082</td>\n",
              "      <td>0.856934</td>\n",
              "      <td>Cash loans</td>\n",
              "      <td>F</td>\n",
              "      <td>N</td>\n",
              "      <td>0.142822</td>\n",
              "    </tr>\n",
              "    <tr>\n",
              "      <th>92134</th>\n",
              "      <td>206983</td>\n",
              "      <td>0.216431</td>\n",
              "      <td>0.220459</td>\n",
              "      <td>25.550686</td>\n",
              "      <td>0.539726</td>\n",
              "      <td>0.871233</td>\n",
              "      <td>0.114127</td>\n",
              "      <td>0.650342</td>\n",
              "      <td>1.000000</td>\n",
              "      <td>Cash loans</td>\n",
              "      <td>F</td>\n",
              "      <td>N</td>\n",
              "      <td>0.000000</td>\n",
              "    </tr>\n",
              "    <tr>\n",
              "      <th>175076</th>\n",
              "      <td>302878</td>\n",
              "      <td>0.456055</td>\n",
              "      <td>0.564941</td>\n",
              "      <td>34.608219</td>\n",
              "      <td>0.545205</td>\n",
              "      <td>6.964384</td>\n",
              "      <td>1.830137</td>\n",
              "      <td>3.112329</td>\n",
              "      <td>0.833496</td>\n",
              "      <td>Cash loans</td>\n",
              "      <td>M</td>\n",
              "      <td>Y</td>\n",
              "      <td>0.166626</td>\n",
              "    </tr>\n",
              "  </tbody>\n",
              "</table>\n",
              "</div>"
            ],
            "text/plain": [
              "        SK_ID_CURR  EXT_SOURCE_3  EXT_SOURCE_2  DAYS_BIRTH   \n",
              "27498       131965      0.331299      0.802246   44.432877  \\\n",
              "231837      368531      0.493896      0.447754   36.616440   \n",
              "2689        103137      0.713867      0.657227   63.849316   \n",
              "92134       206983      0.216431      0.220459   25.550686   \n",
              "175076      302878      0.456055      0.564941   34.608219   \n",
              "\n",
              "        bureau_DAYS_CREDIT_max  bureau_DAYS_CREDIT_min   \n",
              "27498                 0.463014                2.953425  \\\n",
              "231837                1.632877                3.589041   \n",
              "2689                  0.432877                6.235616   \n",
              "92134                 0.539726                0.871233   \n",
              "175076                0.545205                6.964384   \n",
              "\n",
              "        bureau_DAYS_CREDIT_UPDATE_mean  bureau_DAYS_CREDIT_mean   \n",
              "27498                         1.034247                 1.708219  \\\n",
              "231837                        0.688356                 2.873973   \n",
              "2689                          3.019178                 4.578082   \n",
              "92134                         0.114127                 0.650342   \n",
              "175076                        1.830137                 3.112329   \n",
              "\n",
              "        bureau_CREDIT_ACTIVE_Closed_mean NAME_CONTRACT_TYPE CODE_GENDER   \n",
              "27498                           0.500000         Cash loans           M  \\\n",
              "231837                          0.399902         Cash loans           F   \n",
              "2689                            0.856934         Cash loans           F   \n",
              "92134                           1.000000         Cash loans           F   \n",
              "175076                          0.833496         Cash loans           M   \n",
              "\n",
              "       FLAG_OWN_CAR  bureau_CREDIT_ACTIVE_Active_mean  \n",
              "27498             Y                          0.500000  \n",
              "231837            N                          0.600098  \n",
              "2689              N                          0.142822  \n",
              "92134             N                          0.000000  \n",
              "175076            Y                          0.166626  "
            ]
          },
          "execution_count": 64,
          "metadata": {},
          "output_type": "execute_result"
        }
      ],
      "source": [
        "X_train.head()"
      ]
    },
    {
      "cell_type": "code",
      "execution_count": 65,
      "metadata": {},
      "outputs": [
        {
          "name": "stdout",
          "output_type": "stream",
          "text": [
            "<class 'pandas.core.frame.DataFrame'>\n",
            "Index: 171341 entries, 27498 to 19766\n",
            "Data columns (total 13 columns):\n",
            " #   Column                            Non-Null Count   Dtype  \n",
            "---  ------                            --------------   -----  \n",
            " 0   SK_ID_CURR                        171341 non-null  int32  \n",
            " 1   EXT_SOURCE_3                      171341 non-null  float16\n",
            " 2   EXT_SOURCE_2                      171341 non-null  float16\n",
            " 3   DAYS_BIRTH                        171341 non-null  float32\n",
            " 4   bureau_DAYS_CREDIT_max            171341 non-null  float32\n",
            " 5   bureau_DAYS_CREDIT_min            171341 non-null  float32\n",
            " 6   bureau_DAYS_CREDIT_UPDATE_mean    171341 non-null  float32\n",
            " 7   bureau_DAYS_CREDIT_mean           171341 non-null  float32\n",
            " 8   bureau_CREDIT_ACTIVE_Closed_mean  171341 non-null  float16\n",
            " 9   NAME_CONTRACT_TYPE                171341 non-null  object \n",
            " 10  CODE_GENDER                       171341 non-null  object \n",
            " 11  FLAG_OWN_CAR                      171341 non-null  object \n",
            " 12  bureau_CREDIT_ACTIVE_Active_mean  171341 non-null  float16\n",
            "dtypes: float16(4), float32(5), int32(1), object(3)\n",
            "memory usage: 10.5+ MB\n"
          ]
        }
      ],
      "source": [
        "X_train.info()"
      ]
    },
    {
      "cell_type": "markdown",
      "metadata": {
        "id": "j98IZaNEdaq5"
      },
      "source": [
        "####**Entrainement**"
      ]
    },
    {
      "cell_type": "code",
      "execution_count": 66,
      "metadata": {
        "colab": {
          "base_uri": "https://localhost:8080/"
        },
        "id": "fjfjCXoTdfT7",
        "outputId": "3e144900-fd3a-421f-b984-2a332bd8dd25"
      },
      "outputs": [
        {
          "name": "stdout",
          "output_type": "stream",
          "text": [
            "(171341, 14)\n",
            "(73433, 13)\n"
          ]
        }
      ],
      "source": [
        "train_cor, test_cor = train_test_split(df_copy, test_size= 0.3, random_state=123)\n",
        "test_cor = test_cor.drop('TARGET', axis =1)\n",
        "\n",
        "print(train_cor.shape)\n",
        "print(test_cor.shape)"
      ]
    },
    {
      "cell_type": "markdown",
      "metadata": {
        "id": "Jh7_AWE9Nv0r"
      },
      "source": [
        "**F3**"
      ]
    },
    {
      "cell_type": "code",
      "execution_count": 67,
      "metadata": {
        "id": "at_pgGz-FAIE"
      },
      "outputs": [],
      "source": [
        "def model(features, test_features, encoding='ohe', n_folds=5, save_path='./models'):\n",
        "    \"\"\"\n",
        "    Entraîne et teste un modèle LightGBM avec validation croisée et le sauvegarde.\n",
        "\n",
        "    Paramètres\n",
        "    ----------\n",
        "    features : pd.DataFrame\n",
        "        DataFrame contenant les features d'entraînement, avec la colonne TARGET.\n",
        "    test_features : pd.DataFrame\n",
        "        DataFrame contenant les features de test (sans TARGET).\n",
        "    encoding : str, par défaut 'ohe'\n",
        "        Méthode pour encoder les variables catégorielles :\n",
        "        'ohe' pour One-Hot Encoding, 'le' pour Label Encoding.\n",
        "    n_folds : int, par défaut 5\n",
        "        Nombre de plis pour la validation croisée.\n",
        "    save_path : str, par défaut './models'\n",
        "        Répertoire où sauvegarder le modèle global.\n",
        "\n",
        "    Retourne\n",
        "    --------\n",
        "    submission : pd.DataFrame\n",
        "        DataFrame contenant les IDs et les prédictions pour TARGET.\n",
        "    metrics : pd.DataFrame\n",
        "        Métriques d'évaluation (AUC) pour chaque pli et globalement.\n",
        "    \"\"\"\n",
        "\n",
        "    # Création du répertoire de sauvegarde si nécessaire\n",
        "    if not os.path.exists(save_path):\n",
        "        os.makedirs(save_path)\n",
        "\n",
        "    # Extraction des identifiants et des labels\n",
        "    train_ids = features['SK_ID_CURR']\n",
        "    test_ids = test_features['SK_ID_CURR']\n",
        "    labels = features['TARGET']\n",
        "\n",
        "    # Suppression des colonnes non nécessaires\n",
        "    features = features.drop(columns=['SK_ID_CURR', 'TARGET'])\n",
        "    test_features = test_features.drop(columns=['SK_ID_CURR'])\n",
        "\n",
        "    # Étape 1 : Encodage des variables catégorielles\n",
        "    if encoding == 'ohe':\n",
        "        features = pd.get_dummies(features)\n",
        "        test_features = pd.get_dummies(test_features)\n",
        "        features, test_features = features.align(test_features, join='inner', axis=1)\n",
        "        cat_indices = 'auto'\n",
        "    elif encoding == 'le':\n",
        "        label_encoder = LabelEncoder()\n",
        "        cat_indices = []\n",
        "        for i, col in enumerate(features):\n",
        "            if features[col].dtype == 'object':\n",
        "                features[col] = label_encoder.fit_transform(features[col].astype(str))\n",
        "                test_features[col] = label_encoder.transform(test_features[col].astype(str))\n",
        "                cat_indices.append(i)\n",
        "    else:\n",
        "        raise ValueError(\"L'encodage doit être 'ohe' ou 'le'.\")\n",
        "\n",
        "    print(\"Taille des données d'entraînement : \", features.shape)\n",
        "    print('Taille des données de test : ', test_features.shape)\n",
        "\n",
        "    # Étape 2 : Conversion en tableaux numpy\n",
        "    features = np.array(features)\n",
        "    test_features = np.array(test_features)\n",
        "\n",
        "    # Création de l'objet KFold\n",
        "    k_fold = KFold(n_splits=n_folds, shuffle=True, random_state=50)\n",
        "\n",
        "    # Initialisation des variables\n",
        "    test_predictions = np.zeros(test_features.shape[0])\n",
        "    out_of_fold = np.zeros(features.shape[0])\n",
        "    valid_scores = []\n",
        "    train_scores = []\n",
        "\n",
        "    # Étape 3 : Validation croisée\n",
        "    for train_indices, valid_indices in k_fold.split(features):\n",
        "        train_features, train_labels = features[train_indices], labels.iloc[train_indices]\n",
        "        valid_features, valid_labels = features[valid_indices], labels.iloc[valid_indices]\n",
        "\n",
        "        # Modèle LightGBM\n",
        "        model = lgb.LGBMClassifier(\n",
        "            n_estimators=10000,\n",
        "            objective='binary',\n",
        "            class_weight='balanced',\n",
        "            learning_rate=0.05,\n",
        "            reg_alpha=0.1, reg_lambda=0.1,\n",
        "            subsample=0.8,\n",
        "            n_jobs=-1,\n",
        "            random_state=50\n",
        "        )\n",
        "\n",
        "        early_stopping = lgb.early_stopping(stopping_rounds=100, verbose=True)\n",
        "        evaluation = lgb.log_evaluation(period=200)\n",
        "\n",
        "        model.fit(\n",
        "            train_features, train_labels,\n",
        "            eval_metric='auc',\n",
        "            eval_set=[(valid_features, valid_labels), (train_features, train_labels)],\n",
        "            eval_names=['valid', 'train'],\n",
        "            categorical_feature=cat_indices,\n",
        "            callbacks=[early_stopping, evaluation]\n",
        "        )\n",
        "\n",
        "        best_iteration = model.best_iteration_\n",
        "\n",
        "        # Prédictions sur le test\n",
        "        test_predictions += model.predict_proba(test_features, num_iteration=best_iteration)[:, 1] / n_folds\n",
        "\n",
        "        # Prédictions sur les données de validation\n",
        "        out_of_fold[valid_indices] = model.predict_proba(valid_features, num_iteration=best_iteration)[:, 1]\n",
        "\n",
        "        # Scores de validation et d'entraînement\n",
        "        valid_scores.append(model.best_score_['valid']['auc'])\n",
        "        train_scores.append(model.best_score_['train']['auc'])\n",
        "\n",
        "        # Libération de la mémoire\n",
        "        gc.enable()\n",
        "        del train_features, valid_features\n",
        "        gc.collect()\n",
        "\n",
        "    # Étape 4 : Calcul des métriques globales\n",
        "    valid_auc = roc_auc_score(labels, out_of_fold)\n",
        "    valid_scores.append(valid_auc)\n",
        "    train_scores.append(np.mean(train_scores))\n",
        "\n",
        "    # Sauvegarde du modèle global (sur l'ensemble des données d'entraînement)\n",
        "    model.fit(\n",
        "        features, labels,\n",
        "        eval_metric='auc',\n",
        "        categorical_feature=cat_indices\n",
        "    )\n",
        "    # model_path = os.path.join(save_path, 'model_global.joblib')\n",
        "    model_path = os.path.abspath(os.path.join(save_path, 'model_global.joblib'))\n",
        "    with open(model_path, 'wb') as file:\n",
        "        joblib.dump(model, file)\n",
        "\n",
        "    print(f\"Modèle global sauvegardé dans : {model_path}\")\n",
        "\n",
        "    # Création des sorties\n",
        "    soumission = pd.DataFrame({'SK_ID_CURR': test_ids, 'TARGET': test_predictions})\n",
        "    fold_names = list(range(n_folds))\n",
        "    fold_names.append('overall')\n",
        "    metriques = pd.DataFrame({'fold': fold_names, 'train': train_scores, 'valid': valid_scores})\n",
        "\n",
        "    return soumission, metriques\n"
      ]
    },
    {
      "cell_type": "markdown",
      "metadata": {
        "id": "raJ8Nr98Nftn"
      },
      "source": [
        "**Resultats du modèle**"
      ]
    },
    {
      "cell_type": "code",
      "execution_count": 69,
      "metadata": {
        "colab": {
          "base_uri": "https://localhost:8080/"
        },
        "collapsed": true,
        "id": "Fa2XxU9WCeAa",
        "outputId": "83a40fdc-caa9-4cee-fcc5-99f0975175f0"
      },
      "outputs": [
        {
          "ename": "SyntaxError",
          "evalue": "(unicode error) 'unicodeescape' codec can't decode bytes in position 2-3: truncated \\UXXXXXXXX escape (2835115991.py, line 1)",
          "output_type": "error",
          "traceback": [
            "\u001b[1;36m  Cell \u001b[1;32mIn[69], line 1\u001b[1;36m\u001b[0m\n\u001b[1;33m    soumission, metriques = model(train_cor, test_cor, save_path= 'C:\\Users\\hp\\Desktop\\DA_LeroyM\\Leroy Merlin\\OpCR_LM\\Projet_OCR\\P7_Implémentez_modele_Scoring\\tuto_api\\FAST_API/models')\u001b[0m\n\u001b[1;37m                                                                                                                                                                                        ^\u001b[0m\n\u001b[1;31mSyntaxError\u001b[0m\u001b[1;31m:\u001b[0m (unicode error) 'unicodeescape' codec can't decode bytes in position 2-3: truncated \\UXXXXXXXX escape\n"
          ]
        }
      ],
      "source": [
        "soumission, metriques = model(train_cor, test_cor, save_path= '/models')"
      ]
    },
    {
      "cell_type": "code",
      "execution_count": 53,
      "metadata": {},
      "outputs": [
        {
          "data": {
            "text/html": [
              "<div>\n",
              "<style scoped>\n",
              "    .dataframe tbody tr th:only-of-type {\n",
              "        vertical-align: middle;\n",
              "    }\n",
              "\n",
              "    .dataframe tbody tr th {\n",
              "        vertical-align: top;\n",
              "    }\n",
              "\n",
              "    .dataframe thead th {\n",
              "        text-align: right;\n",
              "    }\n",
              "</style>\n",
              "<table border=\"1\" class=\"dataframe\">\n",
              "  <thead>\n",
              "    <tr style=\"text-align: right;\">\n",
              "      <th></th>\n",
              "      <th>SK_ID_CURR</th>\n",
              "      <th>TARGET</th>\n",
              "    </tr>\n",
              "  </thead>\n",
              "  <tbody>\n",
              "    <tr>\n",
              "      <th>177957</th>\n",
              "      <td>306232</td>\n",
              "      <td>0.271928</td>\n",
              "    </tr>\n",
              "    <tr>\n",
              "      <th>99030</th>\n",
              "      <td>214981</td>\n",
              "      <td>0.307074</td>\n",
              "    </tr>\n",
              "    <tr>\n",
              "      <th>193032</th>\n",
              "      <td>323847</td>\n",
              "      <td>0.283735</td>\n",
              "    </tr>\n",
              "    <tr>\n",
              "      <th>248250</th>\n",
              "      <td>387219</td>\n",
              "      <td>0.339964</td>\n",
              "    </tr>\n",
              "    <tr>\n",
              "      <th>255001</th>\n",
              "      <td>395066</td>\n",
              "      <td>0.837870</td>\n",
              "    </tr>\n",
              "    <tr>\n",
              "      <th>...</th>\n",
              "      <td>...</td>\n",
              "      <td>...</td>\n",
              "    </tr>\n",
              "    <tr>\n",
              "      <th>170577</th>\n",
              "      <td>297692</td>\n",
              "      <td>0.469365</td>\n",
              "    </tr>\n",
              "    <tr>\n",
              "      <th>167132</th>\n",
              "      <td>293749</td>\n",
              "      <td>0.134691</td>\n",
              "    </tr>\n",
              "    <tr>\n",
              "      <th>186928</th>\n",
              "      <td>316698</td>\n",
              "      <td>0.729043</td>\n",
              "    </tr>\n",
              "    <tr>\n",
              "      <th>141691</th>\n",
              "      <td>264288</td>\n",
              "      <td>0.578959</td>\n",
              "    </tr>\n",
              "    <tr>\n",
              "      <th>61733</th>\n",
              "      <td>171592</td>\n",
              "      <td>0.284062</td>\n",
              "    </tr>\n",
              "  </tbody>\n",
              "</table>\n",
              "<p>73433 rows × 2 columns</p>\n",
              "</div>"
            ],
            "text/plain": [
              "        SK_ID_CURR    TARGET\n",
              "177957      306232  0.271928\n",
              "99030       214981  0.307074\n",
              "193032      323847  0.283735\n",
              "248250      387219  0.339964\n",
              "255001      395066  0.837870\n",
              "...            ...       ...\n",
              "170577      297692  0.469365\n",
              "167132      293749  0.134691\n",
              "186928      316698  0.729043\n",
              "141691      264288  0.578959\n",
              "61733       171592  0.284062\n",
              "\n",
              "[73433 rows x 2 columns]"
            ]
          },
          "execution_count": 53,
          "metadata": {},
          "output_type": "execute_result"
        }
      ],
      "source": [
        "soumission"
      ]
    },
    {
      "cell_type": "code",
      "execution_count": 52,
      "metadata": {
        "colab": {
          "base_uri": "https://localhost:8080/",
          "height": 238
        },
        "id": "b1SUmTCIDsWL",
        "outputId": "ca68d613-708e-4d17-d1f3-10f9021ae4a3"
      },
      "outputs": [
        {
          "data": {
            "text/html": [
              "<div>\n",
              "<style scoped>\n",
              "    .dataframe tbody tr th:only-of-type {\n",
              "        vertical-align: middle;\n",
              "    }\n",
              "\n",
              "    .dataframe tbody tr th {\n",
              "        vertical-align: top;\n",
              "    }\n",
              "\n",
              "    .dataframe thead th {\n",
              "        text-align: right;\n",
              "    }\n",
              "</style>\n",
              "<table border=\"1\" class=\"dataframe\">\n",
              "  <thead>\n",
              "    <tr style=\"text-align: right;\">\n",
              "      <th></th>\n",
              "      <th>fold</th>\n",
              "      <th>train</th>\n",
              "      <th>valid</th>\n",
              "    </tr>\n",
              "  </thead>\n",
              "  <tbody>\n",
              "    <tr>\n",
              "      <th>0</th>\n",
              "      <td>0</td>\n",
              "      <td>0.771451</td>\n",
              "      <td>0.744832</td>\n",
              "    </tr>\n",
              "    <tr>\n",
              "      <th>1</th>\n",
              "      <td>1</td>\n",
              "      <td>0.785399</td>\n",
              "      <td>0.732448</td>\n",
              "    </tr>\n",
              "    <tr>\n",
              "      <th>2</th>\n",
              "      <td>2</td>\n",
              "      <td>0.766867</td>\n",
              "      <td>0.736467</td>\n",
              "    </tr>\n",
              "    <tr>\n",
              "      <th>3</th>\n",
              "      <td>3</td>\n",
              "      <td>0.779743</td>\n",
              "      <td>0.731606</td>\n",
              "    </tr>\n",
              "    <tr>\n",
              "      <th>4</th>\n",
              "      <td>4</td>\n",
              "      <td>0.766738</td>\n",
              "      <td>0.748838</td>\n",
              "    </tr>\n",
              "    <tr>\n",
              "      <th>5</th>\n",
              "      <td>overall</td>\n",
              "      <td>0.774040</td>\n",
              "      <td>0.738581</td>\n",
              "    </tr>\n",
              "  </tbody>\n",
              "</table>\n",
              "</div>"
            ],
            "text/plain": [
              "      fold     train     valid\n",
              "0        0  0.771451  0.744832\n",
              "1        1  0.785399  0.732448\n",
              "2        2  0.766867  0.736467\n",
              "3        3  0.779743  0.731606\n",
              "4        4  0.766738  0.748838\n",
              "5  overall  0.774040  0.738581"
            ]
          },
          "execution_count": 52,
          "metadata": {},
          "output_type": "execute_result"
        }
      ],
      "source": [
        "metriques"
      ]
    },
    {
      "cell_type": "markdown",
      "metadata": {
        "id": "-ra6D_cnN7iW"
      },
      "source": [
        "**Sauvegarde du modèle**"
      ]
    },
    {
      "cell_type": "code",
      "execution_count": 56,
      "metadata": {
        "id": "-vIt49HCKJPH"
      },
      "outputs": [],
      "source": [
        "loaded_model = joblib.load('model_global.pkl')"
      ]
    },
    {
      "cell_type": "code",
      "execution_count": 58,
      "metadata": {
        "colab": {
          "base_uri": "https://localhost:8080/"
        },
        "id": "Q_E3QtZ7LvZk",
        "outputId": "a3868387-c749-440c-c55f-499c157e95d8"
      },
      "outputs": [
        {
          "data": {
            "text/plain": [
              "['LightGBM_model.pkl']"
            ]
          },
          "execution_count": 58,
          "metadata": {},
          "output_type": "execute_result"
        }
      ],
      "source": [
        "# Sauvegarder le modele dans mon environnement colab\n",
        "joblib.dump(loaded_model,'LightGBM_model.pkl')"
      ]
    },
    {
      "cell_type": "markdown",
      "metadata": {
        "id": "-XWGs_RDOQyC"
      },
      "source": [
        "####**Déploiement**"
      ]
    },
    {
      "cell_type": "code",
      "execution_count": null,
      "metadata": {
        "colab": {
          "base_uri": "https://localhost:8080/"
        },
        "collapsed": true,
        "id": "_ZK0LZ8KOZUi",
        "outputId": "bfef22d2-9ee7-4bed-e076-187a7f0517c2"
      },
      "outputs": [
        {
          "name": "stdout",
          "output_type": "stream",
          "text": [
            "Collecting mlflow\n",
            "  Downloading mlflow-2.19.0-py3-none-any.whl.metadata (30 kB)\n",
            "Collecting mlflow-skinny==2.19.0 (from mlflow)\n",
            "  Downloading mlflow_skinny-2.19.0-py3-none-any.whl.metadata (31 kB)\n",
            "Requirement already satisfied: Flask<4 in /usr/local/lib/python3.10/dist-packages (from mlflow) (3.1.0)\n",
            "Requirement already satisfied: Jinja2<4,>=2.11 in /usr/local/lib/python3.10/dist-packages (from mlflow) (3.1.4)\n",
            "Collecting alembic!=1.10.0,<2 (from mlflow)\n",
            "  Downloading alembic-1.14.0-py3-none-any.whl.metadata (7.4 kB)\n",
            "Collecting docker<8,>=4.0.0 (from mlflow)\n",
            "  Downloading docker-7.1.0-py3-none-any.whl.metadata (3.8 kB)\n",
            "Collecting graphene<4 (from mlflow)\n",
            "  Downloading graphene-3.4.3-py2.py3-none-any.whl.metadata (6.9 kB)\n",
            "Collecting gunicorn<24 (from mlflow)\n",
            "  Downloading gunicorn-23.0.0-py3-none-any.whl.metadata (4.4 kB)\n",
            "Requirement already satisfied: markdown<4,>=3.3 in /usr/local/lib/python3.10/dist-packages (from mlflow) (3.7)\n",
            "Requirement already satisfied: matplotlib<4 in /usr/local/lib/python3.10/dist-packages (from mlflow) (3.8.0)\n",
            "Requirement already satisfied: numpy<3 in /usr/local/lib/python3.10/dist-packages (from mlflow) (1.26.4)\n",
            "Requirement already satisfied: pandas<3 in /usr/local/lib/python3.10/dist-packages (from mlflow) (2.2.2)\n",
            "Requirement already satisfied: pyarrow<19,>=4.0.0 in /usr/local/lib/python3.10/dist-packages (from mlflow) (17.0.0)\n",
            "Requirement already satisfied: scikit-learn<2 in /usr/local/lib/python3.10/dist-packages (from mlflow) (1.6.0)\n",
            "Requirement already satisfied: scipy<2 in /usr/local/lib/python3.10/dist-packages (from mlflow) (1.13.1)\n",
            "Requirement already satisfied: sqlalchemy<3,>=1.4.0 in /usr/local/lib/python3.10/dist-packages (from mlflow) (2.0.36)\n",
            "Requirement already satisfied: cachetools<6,>=5.0.0 in /usr/local/lib/python3.10/dist-packages (from mlflow-skinny==2.19.0->mlflow) (5.5.0)\n",
            "Requirement already satisfied: click<9,>=7.0 in /usr/local/lib/python3.10/dist-packages (from mlflow-skinny==2.19.0->mlflow) (8.1.7)\n",
            "Requirement already satisfied: cloudpickle<4 in /usr/local/lib/python3.10/dist-packages (from mlflow-skinny==2.19.0->mlflow) (3.1.0)\n",
            "Collecting databricks-sdk<1,>=0.20.0 (from mlflow-skinny==2.19.0->mlflow)\n",
            "  Downloading databricks_sdk-0.40.0-py3-none-any.whl.metadata (38 kB)\n",
            "Requirement already satisfied: gitpython<4,>=3.1.9 in /usr/local/lib/python3.10/dist-packages (from mlflow-skinny==2.19.0->mlflow) (3.1.43)\n",
            "Requirement already satisfied: importlib_metadata!=4.7.0,<9,>=3.7.0 in /usr/local/lib/python3.10/dist-packages (from mlflow-skinny==2.19.0->mlflow) (8.5.0)\n",
            "Requirement already satisfied: opentelemetry-api<3,>=1.9.0 in /usr/local/lib/python3.10/dist-packages (from mlflow-skinny==2.19.0->mlflow) (1.29.0)\n",
            "Requirement already satisfied: opentelemetry-sdk<3,>=1.9.0 in /usr/local/lib/python3.10/dist-packages (from mlflow-skinny==2.19.0->mlflow) (1.29.0)\n",
            "Requirement already satisfied: packaging<25 in /usr/local/lib/python3.10/dist-packages (from mlflow-skinny==2.19.0->mlflow) (24.2)\n",
            "Requirement already satisfied: protobuf<6,>=3.12.0 in /usr/local/lib/python3.10/dist-packages (from mlflow-skinny==2.19.0->mlflow) (4.25.5)\n",
            "Requirement already satisfied: pyyaml<7,>=5.1 in /usr/local/lib/python3.10/dist-packages (from mlflow-skinny==2.19.0->mlflow) (6.0.2)\n",
            "Requirement already satisfied: requests<3,>=2.17.3 in /usr/local/lib/python3.10/dist-packages (from mlflow-skinny==2.19.0->mlflow) (2.32.3)\n",
            "Requirement already satisfied: sqlparse<1,>=0.4.0 in /usr/local/lib/python3.10/dist-packages (from mlflow-skinny==2.19.0->mlflow) (0.5.3)\n",
            "Collecting Mako (from alembic!=1.10.0,<2->mlflow)\n",
            "  Downloading Mako-1.3.8-py3-none-any.whl.metadata (2.9 kB)\n",
            "Requirement already satisfied: typing-extensions>=4 in /usr/local/lib/python3.10/dist-packages (from alembic!=1.10.0,<2->mlflow) (4.12.2)\n",
            "Requirement already satisfied: urllib3>=1.26.0 in /usr/local/lib/python3.10/dist-packages (from docker<8,>=4.0.0->mlflow) (2.2.3)\n",
            "Requirement already satisfied: Werkzeug>=3.1 in /usr/local/lib/python3.10/dist-packages (from Flask<4->mlflow) (3.1.3)\n",
            "Requirement already satisfied: itsdangerous>=2.2 in /usr/local/lib/python3.10/dist-packages (from Flask<4->mlflow) (2.2.0)\n",
            "Requirement already satisfied: blinker>=1.9 in /usr/local/lib/python3.10/dist-packages (from Flask<4->mlflow) (1.9.0)\n",
            "Collecting graphql-core<3.3,>=3.1 (from graphene<4->mlflow)\n",
            "  Downloading graphql_core-3.2.5-py3-none-any.whl.metadata (10 kB)\n",
            "Collecting graphql-relay<3.3,>=3.1 (from graphene<4->mlflow)\n",
            "  Downloading graphql_relay-3.2.0-py3-none-any.whl.metadata (12 kB)\n",
            "Requirement already satisfied: python-dateutil<3,>=2.7.0 in /usr/local/lib/python3.10/dist-packages (from graphene<4->mlflow) (2.8.2)\n",
            "Requirement already satisfied: MarkupSafe>=2.0 in /usr/local/lib/python3.10/dist-packages (from Jinja2<4,>=2.11->mlflow) (3.0.2)\n",
            "Requirement already satisfied: contourpy>=1.0.1 in /usr/local/lib/python3.10/dist-packages (from matplotlib<4->mlflow) (1.3.1)\n",
            "Requirement already satisfied: cycler>=0.10 in /usr/local/lib/python3.10/dist-packages (from matplotlib<4->mlflow) (0.12.1)\n",
            "Requirement already satisfied: fonttools>=4.22.0 in /usr/local/lib/python3.10/dist-packages (from matplotlib<4->mlflow) (4.55.3)\n",
            "Requirement already satisfied: kiwisolver>=1.0.1 in /usr/local/lib/python3.10/dist-packages (from matplotlib<4->mlflow) (1.4.7)\n",
            "Requirement already satisfied: pillow>=6.2.0 in /usr/local/lib/python3.10/dist-packages (from matplotlib<4->mlflow) (11.0.0)\n",
            "Requirement already satisfied: pyparsing>=2.3.1 in /usr/local/lib/python3.10/dist-packages (from matplotlib<4->mlflow) (3.2.0)\n",
            "Requirement already satisfied: pytz>=2020.1 in /usr/local/lib/python3.10/dist-packages (from pandas<3->mlflow) (2024.2)\n",
            "Requirement already satisfied: tzdata>=2022.7 in /usr/local/lib/python3.10/dist-packages (from pandas<3->mlflow) (2024.2)\n",
            "Requirement already satisfied: joblib>=1.2.0 in /usr/local/lib/python3.10/dist-packages (from scikit-learn<2->mlflow) (1.4.2)\n",
            "Requirement already satisfied: threadpoolctl>=3.1.0 in /usr/local/lib/python3.10/dist-packages (from scikit-learn<2->mlflow) (3.5.0)\n",
            "Requirement already satisfied: greenlet!=0.4.17 in /usr/local/lib/python3.10/dist-packages (from sqlalchemy<3,>=1.4.0->mlflow) (3.1.1)\n",
            "Requirement already satisfied: google-auth~=2.0 in /usr/local/lib/python3.10/dist-packages (from databricks-sdk<1,>=0.20.0->mlflow-skinny==2.19.0->mlflow) (2.27.0)\n",
            "Requirement already satisfied: gitdb<5,>=4.0.1 in /usr/local/lib/python3.10/dist-packages (from gitpython<4,>=3.1.9->mlflow-skinny==2.19.0->mlflow) (4.0.11)\n",
            "Requirement already satisfied: zipp>=3.20 in /usr/local/lib/python3.10/dist-packages (from importlib_metadata!=4.7.0,<9,>=3.7.0->mlflow-skinny==2.19.0->mlflow) (3.21.0)\n",
            "Requirement already satisfied: deprecated>=1.2.6 in /usr/local/lib/python3.10/dist-packages (from opentelemetry-api<3,>=1.9.0->mlflow-skinny==2.19.0->mlflow) (1.2.15)\n",
            "Requirement already satisfied: opentelemetry-semantic-conventions==0.50b0 in /usr/local/lib/python3.10/dist-packages (from opentelemetry-sdk<3,>=1.9.0->mlflow-skinny==2.19.0->mlflow) (0.50b0)\n",
            "Requirement already satisfied: six>=1.5 in /usr/local/lib/python3.10/dist-packages (from python-dateutil<3,>=2.7.0->graphene<4->mlflow) (1.17.0)\n",
            "Requirement already satisfied: charset-normalizer<4,>=2 in /usr/local/lib/python3.10/dist-packages (from requests<3,>=2.17.3->mlflow-skinny==2.19.0->mlflow) (3.4.0)\n",
            "Requirement already satisfied: idna<4,>=2.5 in /usr/local/lib/python3.10/dist-packages (from requests<3,>=2.17.3->mlflow-skinny==2.19.0->mlflow) (3.10)\n",
            "Requirement already satisfied: certifi>=2017.4.17 in /usr/local/lib/python3.10/dist-packages (from requests<3,>=2.17.3->mlflow-skinny==2.19.0->mlflow) (2024.12.14)\n",
            "Requirement already satisfied: wrapt<2,>=1.10 in /usr/local/lib/python3.10/dist-packages (from deprecated>=1.2.6->opentelemetry-api<3,>=1.9.0->mlflow-skinny==2.19.0->mlflow) (1.17.0)\n",
            "Requirement already satisfied: smmap<6,>=3.0.1 in /usr/local/lib/python3.10/dist-packages (from gitdb<5,>=4.0.1->gitpython<4,>=3.1.9->mlflow-skinny==2.19.0->mlflow) (5.0.1)\n",
            "Requirement already satisfied: pyasn1-modules>=0.2.1 in /usr/local/lib/python3.10/dist-packages (from google-auth~=2.0->databricks-sdk<1,>=0.20.0->mlflow-skinny==2.19.0->mlflow) (0.4.1)\n",
            "Requirement already satisfied: rsa<5,>=3.1.4 in /usr/local/lib/python3.10/dist-packages (from google-auth~=2.0->databricks-sdk<1,>=0.20.0->mlflow-skinny==2.19.0->mlflow) (4.9)\n",
            "Requirement already satisfied: pyasn1<0.7.0,>=0.4.6 in /usr/local/lib/python3.10/dist-packages (from pyasn1-modules>=0.2.1->google-auth~=2.0->databricks-sdk<1,>=0.20.0->mlflow-skinny==2.19.0->mlflow) (0.6.1)\n",
            "Downloading mlflow-2.19.0-py3-none-any.whl (27.4 MB)\n",
            "\u001b[2K   \u001b[90m━━━━━━━━━━━━━━━━━━━━━━━━━━━━━━━━━━━━━━━━\u001b[0m \u001b[32m27.4/27.4 MB\u001b[0m \u001b[31m60.6 MB/s\u001b[0m eta \u001b[36m0:00:00\u001b[0m\n",
            "\u001b[?25hDownloading mlflow_skinny-2.19.0-py3-none-any.whl (5.9 MB)\n",
            "\u001b[2K   \u001b[90m━━━━━━━━━━━━━━━━━━━━━━━━━━━━━━━━━━━━━━━━\u001b[0m \u001b[32m5.9/5.9 MB\u001b[0m \u001b[31m78.9 MB/s\u001b[0m eta \u001b[36m0:00:00\u001b[0m\n",
            "\u001b[?25hDownloading alembic-1.14.0-py3-none-any.whl (233 kB)\n",
            "\u001b[2K   \u001b[90m━━━━━━━━━━━━━━━━━━━━━━━━━━━━━━━━━━━━━━━━\u001b[0m \u001b[32m233.5/233.5 kB\u001b[0m \u001b[31m15.8 MB/s\u001b[0m eta \u001b[36m0:00:00\u001b[0m\n",
            "\u001b[?25hDownloading docker-7.1.0-py3-none-any.whl (147 kB)\n",
            "\u001b[2K   \u001b[90m━━━━━━━━━━━━━━━━━━━━━━━━━━━━━━━━━━━━━━━━\u001b[0m \u001b[32m147.8/147.8 kB\u001b[0m \u001b[31m11.9 MB/s\u001b[0m eta \u001b[36m0:00:00\u001b[0m\n",
            "\u001b[?25hDownloading graphene-3.4.3-py2.py3-none-any.whl (114 kB)\n",
            "\u001b[2K   \u001b[90m━━━━━━━━━━━━━━━━━━━━━━━━━━━━━━━━━━━━━━━━\u001b[0m \u001b[32m114.9/114.9 kB\u001b[0m \u001b[31m9.1 MB/s\u001b[0m eta \u001b[36m0:00:00\u001b[0m\n",
            "\u001b[?25hDownloading gunicorn-23.0.0-py3-none-any.whl (85 kB)\n",
            "\u001b[2K   \u001b[90m━━━━━━━━━━━━━━━━━━━━━━━━━━━━━━━━━━━━━━━━\u001b[0m \u001b[32m85.0/85.0 kB\u001b[0m \u001b[31m7.1 MB/s\u001b[0m eta \u001b[36m0:00:00\u001b[0m\n",
            "\u001b[?25hDownloading databricks_sdk-0.40.0-py3-none-any.whl (629 kB)\n",
            "\u001b[2K   \u001b[90m━━━━━━━━━━━━━━━━━━━━━━━━━━━━━━━━━━━━━━━━\u001b[0m \u001b[32m629.7/629.7 kB\u001b[0m \u001b[31m35.3 MB/s\u001b[0m eta \u001b[36m0:00:00\u001b[0m\n",
            "\u001b[?25hDownloading graphql_core-3.2.5-py3-none-any.whl (203 kB)\n",
            "\u001b[2K   \u001b[90m━━━━━━━━━━━━━━━━━━━━━━━━━━━━━━━━━━━━━━━━\u001b[0m \u001b[32m203.2/203.2 kB\u001b[0m \u001b[31m14.2 MB/s\u001b[0m eta \u001b[36m0:00:00\u001b[0m\n",
            "\u001b[?25hDownloading graphql_relay-3.2.0-py3-none-any.whl (16 kB)\n",
            "Downloading Mako-1.3.8-py3-none-any.whl (78 kB)\n",
            "\u001b[2K   \u001b[90m━━━━━━━━━━━━━━━━━━━━━━━━━━━━━━━━━━━━━━━━\u001b[0m \u001b[32m78.6/78.6 kB\u001b[0m \u001b[31m6.1 MB/s\u001b[0m eta \u001b[36m0:00:00\u001b[0m\n",
            "\u001b[?25hInstalling collected packages: Mako, gunicorn, graphql-core, graphql-relay, docker, alembic, graphene, databricks-sdk, mlflow-skinny, mlflow\n",
            "Successfully installed Mako-1.3.8 alembic-1.14.0 databricks-sdk-0.40.0 docker-7.1.0 graphene-3.4.3 graphql-core-3.2.5 graphql-relay-3.2.0 gunicorn-23.0.0 mlflow-2.19.0 mlflow-skinny-2.19.0\n"
          ]
        }
      ],
      "source": [
        "!pip install mlflow"
      ]
    },
    {
      "cell_type": "markdown",
      "metadata": {
        "id": "mll2yJ5HQYqn"
      },
      "source": [
        "#####**Chargement du modèle**"
      ]
    },
    {
      "cell_type": "code",
      "execution_count": null,
      "metadata": {
        "id": "vO9UQ81ELg4q"
      },
      "outputs": [],
      "source": [
        "import mlflow\n",
        "import mlflow.sklearn\n",
        "\n",
        "# mlflow.start_run()  # Démarrer une expérimentation dans MLflow\n",
        "\n",
        "# Charger le modèle sauvegardé\n",
        "with open(chemin +'/mlflow_model/LightGBM_model.pkl', 'rb') as file:\n",
        "    loaded_model = joblib.load(file)\n"
      ]
    },
    {
      "cell_type": "markdown",
      "metadata": {
        "id": "mPtFrEnrdg2W"
      },
      "source": [
        "#####**Inférer une signature**\n",
        "Afin de garantir que les données d'entrée d'un modèle sont conformes à ce qui est attendu, les modèles MLflow peuvent inclure des metadatas décrivant les entrées et sorties :\n",
        "- Model Signature - description des entrées et sorties du modèle\n",
        "- Model Input Example - exemple d'une entrée valide\n",
        "\n",
        "La signature du modèle permet de renseigner le nom des colonnes et leurs types afin de vérifier si ils sont similaires lors de la prédiction."
      ]
    },
    {
      "cell_type": "code",
      "execution_count": null,
      "metadata": {
        "id": "lokry2VEdmUV"
      },
      "outputs": [],
      "source": [
        "from mlflow.models.signature import infer_signature"
      ]
    },
    {
      "cell_type": "markdown",
      "metadata": {
        "id": "6N8d3Glud4Rh"
      },
      "source": [
        "**On utilise la fonction infer_signature pour extraire la signature à partir des données d'entrée et de sortie.**"
      ]
    },
    {
      "cell_type": "code",
      "execution_count": null,
      "metadata": {
        "id": "cgFjv8zed7bt"
      },
      "outputs": [],
      "source": [
        "# Convert to NumPy arrays\n",
        "X_np = X_train.to_numpy()\n",
        "y_np = y_train.to_numpy()\n",
        "signature = infer_signature(X_np, y_np)"
      ]
    },
    {
      "cell_type": "markdown",
      "metadata": {
        "id": "jefJxkvtO5xk"
      },
      "source": [
        "#####**Enregistrer le modèle dans MLflow**"
      ]
    },
    {
      "cell_type": "code",
      "execution_count": null,
      "metadata": {
        "colab": {
          "base_uri": "https://localhost:8080/"
        },
        "id": "LUSMfNjGO6V_",
        "outputId": "cca94e5c-c654-4d49-9a32-362aba5673b3"
      },
      "outputs": [
        {
          "name": "stderr",
          "output_type": "stream",
          "text": [
            "\u001b[31m2024/12/19 23:30:40 WARNING mlflow.models.model: Model logged without a signature and input example. Please set `input_example` parameter when logging the model to auto infer the model signature.\u001b[0m\n",
            "Successfully registered model 'LightGBM_Classifier'.\n",
            "Created version '1' of model 'LightGBM_Classifier'.\n"
          ]
        },
        {
          "data": {
            "text/plain": [
              "<mlflow.models.model.ModelInfo at 0x784cf96502e0>"
            ]
          },
          "execution_count": 72,
          "metadata": {},
          "output_type": "execute_result"
        }
      ],
      "source": [
        "# Enregistrer le modèle dans MLflow\n",
        "mlflow.sklearn.log_model(\n",
        "    sk_model=loaded_model,\n",
        "    artifact_path=\"lightgbm_model\",  # Chemin dans MLflow\n",
        "    registered_model_name=\"LightGBM_Classifier\"  # Nom du modèle dans MLflow\n",
        ")\n"
      ]
    },
    {
      "cell_type": "markdown",
      "metadata": {
        "id": "xXyI8-3IO8Ty"
      },
      "source": []
    },
    {
      "cell_type": "code",
      "execution_count": null,
      "metadata": {
        "id": "4RxrdwmvO89h"
      },
      "outputs": [],
      "source": [
        "# # Terminer l'expérimentation\n",
        "# mlflow.end_run()"
      ]
    },
    {
      "cell_type": "markdown",
      "metadata": {
        "id": "yDaSECP_s-Vv"
      },
      "source": [
        "**Python anywhere ou Rander** pour tourner l'API"
      ]
    }
  ],
  "metadata": {
    "colab": {
      "collapsed_sections": [
        "LUJXBqygP29F",
        "YiI5aJGDP0DV",
        "hT_zwmFzBE_G"
      ],
      "provenance": [],
      "toc_visible": true
    },
    "kernelspec": {
      "display_name": "Python 3",
      "name": "python3"
    },
    "language_info": {
      "codemirror_mode": {
        "name": "ipython",
        "version": 3
      },
      "file_extension": ".py",
      "mimetype": "text/x-python",
      "name": "python",
      "nbconvert_exporter": "python",
      "pygments_lexer": "ipython3",
      "version": "3.11.9"
    }
  },
  "nbformat": 4,
  "nbformat_minor": 0
}
